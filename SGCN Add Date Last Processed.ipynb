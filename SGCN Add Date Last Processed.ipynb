{
 "cells": [
  {
   "cell_type": "markdown",
   "metadata": {
    "deletable": true,
    "editable": true
   },
   "source": [
    "I decided to start adding a date/time stamp for the last time a given item in ScienceBase was processed. This way we can look at the repository and check that date against the date of the Process File for each item to determine if the file needs to be processed."
   ]
  },
  {
   "cell_type": "code",
   "execution_count": 1,
   "metadata": {
    "collapsed": false,
    "deletable": true,
    "editable": true
   },
   "outputs": [
    {
     "name": "stdout",
     "output_type": "stream",
     "text": [
      "Username: sbristol@usgs.gov\n",
      "········\n"
     ]
    },
    {
     "data": {
      "text/plain": [
       "<pysb.SbSession.SbSession at 0x10ab96e80>"
      ]
     },
     "execution_count": 1,
     "metadata": {},
     "output_type": "execute_result"
    }
   ],
   "source": [
    "# Get dependencies and set up an sb session\n",
    "import re\n",
    "import pysb\n",
    "import os\n",
    "sb = pysb.SbSession()\n",
    "username = input(\"Username: \")\n",
    "sb.loginc(str(username))"
   ]
  },
  {
   "cell_type": "code",
   "execution_count": 4,
   "metadata": {
    "collapsed": false,
    "deletable": true,
    "editable": true
   },
   "outputs": [
    {
     "data": {
      "text/plain": [
       "{'dates': [{'dateString': '2014-05-20',\n",
       "   'label': 'Date Received',\n",
       "   'type': 'Received '},\n",
       "  {'dateString': '2015', 'label': 'Date Collected', 'type': 'Collected'},\n",
       "  {'dateString': '2017-06-20 00:00:00',\n",
       "   'label': 'Last Processing Date',\n",
       "   'type': 'lastProcessed'}],\n",
       " 'id': '56d722dbe4b015c306f45296'}"
      ]
     },
     "metadata": {},
     "output_type": "display_data"
    },
    {
     "data": {
      "text/plain": [
       "{'dates': [{'dateString': '2014-04-15',\n",
       "   'label': 'Date Received',\n",
       "   'type': 'Received '},\n",
       "  {'dateString': '2015', 'label': 'Date Collected', 'type': 'Collected'},\n",
       "  {'dateString': '2017-06-20 00:00:00',\n",
       "   'label': 'Last Processing Date',\n",
       "   'type': 'lastProcessed'}],\n",
       " 'id': '56d7221fe4b015c306f44ab9'}"
      ]
     },
     "metadata": {},
     "output_type": "display_data"
    },
    {
     "data": {
      "text/plain": [
       "{'dates': [{'dateString': '2014-03-28',\n",
       "   'label': 'Date Received',\n",
       "   'type': 'Received '},\n",
       "  {'dateString': '2015', 'label': 'Date Collected', 'type': 'Collected'},\n",
       "  {'dateString': '2017-06-20 00:00:00',\n",
       "   'label': 'Last Processing Date',\n",
       "   'type': 'lastProcessed'}],\n",
       " 'id': '56d72267e4b015c306f44ea8'}"
      ]
     },
     "metadata": {},
     "output_type": "display_data"
    },
    {
     "data": {
      "text/plain": [
       "{'dates': [{'dateString': '2015-10-19',\n",
       "   'label': 'Date Received',\n",
       "   'type': 'Received '},\n",
       "  {'dateString': '2015', 'label': 'Date Collected', 'type': 'Collected'},\n",
       "  {'dateString': '2017-06-20 00:00:00',\n",
       "   'label': 'Last Processing Date',\n",
       "   'type': 'lastProcessed'}],\n",
       " 'id': '56d7246be4b015c306f457ef'}"
      ]
     },
     "metadata": {},
     "output_type": "display_data"
    },
    {
     "data": {
      "text/plain": [
       "{'dates': [{'dateString': '2016-07-05',\n",
       "   'label': 'Acquisition',\n",
       "   'type': 'Acquisition'},\n",
       "  {'dateString': '2015', 'label': 'Date Collected', 'type': 'Collected'},\n",
       "  {'dateString': '2017-06-20 00:00:00',\n",
       "   'label': 'Last Processing Date',\n",
       "   'type': 'lastProcessed'}],\n",
       " 'id': '57853750e4b0e02680bf1f9f'}"
      ]
     },
     "metadata": {},
     "output_type": "display_data"
    },
    {
     "data": {
      "text/plain": [
       "{'dates': [{'dateString': '2016-07-07',\n",
       "   'label': 'Acquisition',\n",
       "   'type': 'Acquisition'},\n",
       "  {'dateString': '2015', 'label': 'Date Collected', 'type': 'Collected'},\n",
       "  {'dateString': '2017-06-20 00:00:00',\n",
       "   'label': 'Last Processing Date',\n",
       "   'type': 'lastProcessed'}],\n",
       " 'id': '5785363ae4b0e02680bf1f9c'}"
      ]
     },
     "metadata": {},
     "output_type": "display_data"
    },
    {
     "data": {
      "text/plain": [
       "{'dates': [{'dateString': '2015',\n",
       "   'label': 'Date Collected',\n",
       "   'type': 'Collected'},\n",
       "  {'dateString': '2017-06-20 00:00:00',\n",
       "   'label': 'Last Processing Date',\n",
       "   'type': 'lastProcessed'}],\n",
       " 'id': '579675f2e4b021cadec81304'}"
      ]
     },
     "metadata": {},
     "output_type": "display_data"
    },
    {
     "data": {
      "text/plain": [
       "{'dates': [{'dateString': '2015-09-08',\n",
       "   'label': 'Date Received',\n",
       "   'type': 'Received '},\n",
       "  {'dateString': '2015', 'label': 'Date Collected', 'type': 'Collected'},\n",
       "  {'dateString': '2017-06-20 00:00:00',\n",
       "   'label': 'Last Processing Date',\n",
       "   'type': 'lastProcessed'}],\n",
       " 'id': '56d72501e4b015c306f457ff'}"
      ]
     },
     "metadata": {},
     "output_type": "display_data"
    },
    {
     "data": {
      "text/plain": [
       "{'dates': [{'dateString': '2015-07-06',\n",
       "   'label': 'Date Received',\n",
       "   'type': 'Received '},\n",
       "  {'dateString': '2015', 'label': 'Date Collected', 'type': 'Collected'},\n",
       "  {'dateString': '2017-06-20 00:00:00',\n",
       "   'label': 'Last Processing Date',\n",
       "   'type': 'lastProcessed'}],\n",
       " 'id': '56d72597e4b015c306f45808'}"
      ]
     },
     "metadata": {},
     "output_type": "display_data"
    },
    {
     "data": {
      "text/plain": [
       "{'dates': [{'dateString': '2015',\n",
       "   'label': 'Date Collected',\n",
       "   'type': 'Collected'},\n",
       "  {'dateString': '2017-06-20 00:00:00',\n",
       "   'label': 'Last Processing Date',\n",
       "   'type': 'lastProcessed'}],\n",
       " 'id': '576c0f31e4b07657d1a26f2f'}"
      ]
     },
     "metadata": {},
     "output_type": "display_data"
    },
    {
     "data": {
      "text/plain": [
       "{'dates': [{'dateString': '2016-05-12',\n",
       "   'label': 'Date Received',\n",
       "   'type': 'Received '},\n",
       "  {'dateString': '2015', 'label': 'Date Collected', 'type': 'Collected'},\n",
       "  {'dateString': '2017-06-20 00:00:00',\n",
       "   'label': 'Last Processing Date',\n",
       "   'type': 'lastProcessed'}],\n",
       " 'id': '573c99d9e4b0dae0d5e4afa7'}"
      ]
     },
     "metadata": {},
     "output_type": "display_data"
    },
    {
     "data": {
      "text/plain": [
       "{'dates': [{'dateString': '2016-05-17',\n",
       "   'label': 'Date Received',\n",
       "   'type': 'Received '},\n",
       "  {'dateString': '2015', 'label': 'Date Collected', 'type': 'Collected'},\n",
       "  {'dateString': '2017-06-20 00:00:00',\n",
       "   'label': 'Last Processing Date',\n",
       "   'type': 'lastProcessed'}],\n",
       " 'id': '573c9a39e4b0dae0d5e4afaa'}"
      ]
     },
     "metadata": {},
     "output_type": "display_data"
    },
    {
     "data": {
      "text/plain": [
       "{'dates': [{'dateString': '2015',\n",
       "   'label': 'Date Collected',\n",
       "   'type': 'Collected'},\n",
       "  {'dateString': '2017-06-20 00:00:00',\n",
       "   'label': 'Last Processing Date',\n",
       "   'type': 'lastProcessed'}],\n",
       " 'id': '57967529e4b021cadec812ff'}"
      ]
     },
     "metadata": {},
     "output_type": "display_data"
    },
    {
     "data": {
      "text/plain": [
       "{'dates': [{'dateString': '2015',\n",
       "   'label': 'Date Collected',\n",
       "   'type': 'Collected'},\n",
       "  {'dateString': '2017-06-20 00:00:00',\n",
       "   'label': 'Last Processing Date',\n",
       "   'type': 'lastProcessed'}],\n",
       " 'id': '5796780fe4b021cadec81328'}"
      ]
     },
     "metadata": {},
     "output_type": "display_data"
    },
    {
     "data": {
      "text/plain": [
       "{'dates': [{'dateString': '2015-09-08',\n",
       "   'label': 'Date Received',\n",
       "   'type': 'Received '},\n",
       "  {'dateString': '2015', 'label': 'Date Collected', 'type': 'Collected'},\n",
       "  {'dateString': '2017-06-20 00:00:00',\n",
       "   'label': 'Last Processing Date',\n",
       "   'type': 'lastProcessed'}],\n",
       " 'id': '56d724d4e4b015c306f457fd'}"
      ]
     },
     "metadata": {},
     "output_type": "display_data"
    },
    {
     "data": {
      "text/plain": [
       "{'dates': [{'dateString': '2016-07-11',\n",
       "   'label': 'Acquisition',\n",
       "   'type': 'Acquisition'},\n",
       "  {'dateString': '2015', 'label': 'Date Collected', 'type': 'Collected'},\n",
       "  {'dateString': '2017-06-20 00:00:00',\n",
       "   'label': 'Last Processing Date',\n",
       "   'type': 'lastProcessed'}],\n",
       " 'id': '5785347ae4b0e02680bf1f90'}"
      ]
     },
     "metadata": {},
     "output_type": "display_data"
    },
    {
     "data": {
      "text/plain": [
       "{'dates': [{'dateString': '2016-07-11',\n",
       "   'label': 'Acquisition',\n",
       "   'type': 'Acquisition'},\n",
       "  {'dateString': '2015', 'label': 'Date Collected', 'type': 'Collected'},\n",
       "  {'dateString': '2017-06-20 00:00:00',\n",
       "   'label': 'Last Processing Date',\n",
       "   'type': 'lastProcessed'}],\n",
       " 'id': '578533e2e4b0e02680bf1f8a'}"
      ]
     },
     "metadata": {},
     "output_type": "display_data"
    },
    {
     "data": {
      "text/plain": [
       "{'dates': [{'dateString': '2016-07-11',\n",
       "   'label': 'Acquisition',\n",
       "   'type': 'Acquisition'},\n",
       "  {'dateString': '2015', 'label': 'Date Collected', 'type': 'Collected'},\n",
       "  {'dateString': '2017-06-20 00:00:00',\n",
       "   'label': 'Last Processing Date',\n",
       "   'type': 'lastProcessed'}],\n",
       " 'id': '578535a0e4b0e02680bf1f98'}"
      ]
     },
     "metadata": {},
     "output_type": "display_data"
    },
    {
     "data": {
      "text/plain": [
       "{'dates': [{'dateString': '2015-09-30',\n",
       "   'label': 'Date Received',\n",
       "   'type': 'Received '},\n",
       "  {'dateString': '2015', 'label': 'Date Collected', 'type': 'Collected'},\n",
       "  {'dateString': '2017-06-20 00:00:00',\n",
       "   'label': 'Last Processing Date',\n",
       "   'type': 'lastProcessed'}],\n",
       " 'id': '56d72405e4b015c306f457e7'}"
      ]
     },
     "metadata": {},
     "output_type": "display_data"
    },
    {
     "data": {
      "text/plain": [
       "{'dates': [{'dateString': '2016-07-06',\n",
       "   'label': 'Date Received',\n",
       "   'type': 'Received '},\n",
       "  {'dateString': '2015', 'label': 'Date Collected', 'type': 'Collected'},\n",
       "  {'dateString': '2017-06-20 00:00:00',\n",
       "   'label': 'Last Processing Date',\n",
       "   'type': 'lastProcessed'}],\n",
       " 'id': '57853325e4b0e02680bf1f87'}"
      ]
     },
     "metadata": {},
     "output_type": "display_data"
    },
    {
     "data": {
      "text/plain": [
       "{'dates': [{'dateString': '2015-11-09',\n",
       "   'label': 'Date Received',\n",
       "   'type': 'Received '},\n",
       "  {'dateString': '2015', 'label': 'Date Collected', 'type': 'Collected'},\n",
       "  {'dateString': '2017-04-16', 'label': 'Date Received', 'type': 'Received '},\n",
       "  {'dateString': '2017-06-20 00:00:00',\n",
       "   'label': 'Last Processing Date',\n",
       "   'type': 'lastProcessed'}],\n",
       " 'id': '56d725f1e4b015c306f4580d'}"
      ]
     },
     "metadata": {},
     "output_type": "display_data"
    },
    {
     "data": {
      "text/plain": [
       "{'dates': [{'dateString': '2016-08-22',\n",
       "   'label': 'Date Received',\n",
       "   'type': 'Received '},\n",
       "  {'dateString': '2015', 'label': 'Date Collected', 'type': 'Collected'},\n",
       "  {'dateString': '2017-06-20 00:00:00',\n",
       "   'label': 'Last Processing Date',\n",
       "   'type': 'lastProcessed'}],\n",
       " 'id': '57bb4aaee4b03fd6b7dd04cd'}"
      ]
     },
     "metadata": {},
     "output_type": "display_data"
    },
    {
     "data": {
      "text/plain": [
       "{'dates': [{'dateString': '2014-04-16',\n",
       "   'label': 'Date Received',\n",
       "   'type': 'Received '},\n",
       "  {'dateString': '2015', 'label': 'Date Collected', 'type': 'Collected'},\n",
       "  {'dateString': '2017-06-20 00:00:00',\n",
       "   'label': 'Last Processing Date',\n",
       "   'type': 'lastProcessed'}],\n",
       " 'id': '56d72389e4b015c306f457da'}"
      ]
     },
     "metadata": {},
     "output_type": "display_data"
    },
    {
     "data": {
      "text/plain": [
       "{'dates': [{'dateString': '2016-07-11',\n",
       "   'label': 'Acquisition',\n",
       "   'type': 'Acquisition'},\n",
       "  {'dateString': '2015', 'label': 'Date Collected', 'type': 'Collected'},\n",
       "  {'dateString': '2017-06-20 00:00:00',\n",
       "   'label': 'Last Processing Date',\n",
       "   'type': 'lastProcessed'}],\n",
       " 'id': '578534c7e4b0e02680bf1f94'}"
      ]
     },
     "metadata": {},
     "output_type": "display_data"
    },
    {
     "data": {
      "text/plain": [
       "{'dates': [{'dateString': '2015-11-06',\n",
       "   'label': 'Date Received',\n",
       "   'type': 'Received '},\n",
       "  {'dateString': '2015', 'label': 'Date Collected', 'type': 'Collected'},\n",
       "  {'dateString': '2017-06-20 00:00:00',\n",
       "   'label': 'Last Processing Date',\n",
       "   'type': 'lastProcessed'}],\n",
       " 'id': '56d7249ae4b015c306f457f9'}"
      ]
     },
     "metadata": {},
     "output_type": "display_data"
    },
    {
     "data": {
      "text/plain": [
       "{'dates': [{'dateString': '2015',\n",
       "   'label': 'Date Collected',\n",
       "   'type': 'Collected'},\n",
       "  {'dateString': '2017-06-20 00:00:00',\n",
       "   'label': 'Last Processing Date',\n",
       "   'type': 'lastProcessed'}],\n",
       " 'id': '579677b9e4b021cadec81324'}"
      ]
     },
     "metadata": {},
     "output_type": "display_data"
    },
    {
     "data": {
      "text/plain": [
       "{'dates': [{'dateString': '2015-09-14',\n",
       "   'label': 'Date Received',\n",
       "   'type': 'Received '},\n",
       "  {'dateString': '2015', 'label': 'Date Collected', 'type': 'Collected'},\n",
       "  {'dateString': '2017-06-20 00:00:00',\n",
       "   'label': 'Last Processing Date',\n",
       "   'type': 'lastProcessed'}],\n",
       " 'id': '56d72530e4b015c306f45802'}"
      ]
     },
     "metadata": {},
     "output_type": "display_data"
    },
    {
     "data": {
      "text/plain": [
       "{'dates': [{'dateString': '2015',\n",
       "   'label': 'Date Collected',\n",
       "   'type': 'Collected'},\n",
       "  {'dateString': '2017-03-23', 'label': 'Date Received', 'type': 'Received '},\n",
       "  {'dateString': '2017-06-20 00:00:00',\n",
       "   'label': 'Last Processing Date',\n",
       "   'type': 'lastProcessed'}],\n",
       " 'id': '590a57ffe4b0fc4e449161dd'}"
      ]
     },
     "metadata": {},
     "output_type": "display_data"
    },
    {
     "data": {
      "text/plain": [
       "{'dates': [{'dateString': '2015',\n",
       "   'label': 'Date Collected',\n",
       "   'type': 'Collected'},\n",
       "  {'dateString': '2017-05-03', 'label': 'Date Received', 'type': 'Received '},\n",
       "  {'dateString': '2017-06-20 00:00:00',\n",
       "   'label': 'Last Processing Date',\n",
       "   'type': 'lastProcessed'}],\n",
       " 'id': '590b3f4ae4b0fc4e4492ac76'}"
      ]
     },
     "metadata": {},
     "output_type": "display_data"
    },
    {
     "data": {
      "text/plain": [
       "{'dates': [{'dateString': '2015-10-13',\n",
       "   'label': 'Date Received',\n",
       "   'type': 'Received '},\n",
       "  {'dateString': '2015', 'label': 'Date Collected', 'type': 'Collected'},\n",
       "  {'dateString': '2017-06-20 00:00:00',\n",
       "   'label': 'Last Processing Date',\n",
       "   'type': 'lastProcessed'}],\n",
       " 'id': '56d72436e4b015c306f457eb'}"
      ]
     },
     "metadata": {},
     "output_type": "display_data"
    },
    {
     "data": {
      "text/plain": [
       "{'dates': [{'dateString': '2005',\n",
       "   'label': 'Date Collected',\n",
       "   'type': 'Collected'},\n",
       "  {'dateString': '2017-06-20 00:00:00',\n",
       "   'label': 'Last Processing Date',\n",
       "   'type': 'lastProcessed'}],\n",
       " 'id': '5787cd0ae4b0d27deb3754f2'}"
      ]
     },
     "metadata": {},
     "output_type": "display_data"
    },
    {
     "data": {
      "text/plain": [
       "{'dates': [{'dateString': '2005',\n",
       "   'label': 'Date Collected',\n",
       "   'type': 'Collected'},\n",
       "  {'dateString': '2017-06-20 00:00:00',\n",
       "   'label': 'Last Processing Date',\n",
       "   'type': 'lastProcessed'}],\n",
       " 'id': '5787ceaae4b0d27deb375510'}"
      ]
     },
     "metadata": {},
     "output_type": "display_data"
    },
    {
     "data": {
      "text/plain": [
       "{'dates': [{'dateString': '2005',\n",
       "   'label': 'Date Collected',\n",
       "   'type': 'Collected'},\n",
       "  {'dateString': '2017-06-20 00:00:00',\n",
       "   'label': 'Last Processing Date',\n",
       "   'type': 'lastProcessed'}],\n",
       " 'id': '5787cc52e4b0d27deb3754de'}"
      ]
     },
     "metadata": {},
     "output_type": "display_data"
    },
    {
     "data": {
      "text/plain": [
       "{'dates': [{'dateString': '2005',\n",
       "   'label': 'Date Collected',\n",
       "   'type': 'Collected'},\n",
       "  {'dateString': '2017-06-20 00:00:00',\n",
       "   'label': 'Last Processing Date',\n",
       "   'type': 'lastProcessed'}],\n",
       " 'id': '5787cd33e4b0d27deb3754f6'}"
      ]
     },
     "metadata": {},
     "output_type": "display_data"
    },
    {
     "data": {
      "text/plain": [
       "{'dates': [{'dateString': '2005',\n",
       "   'label': 'Date Collected',\n",
       "   'type': 'Collected'},\n",
       "  {'dateString': '2017-06-20 00:00:00',\n",
       "   'label': 'Last Processing Date',\n",
       "   'type': 'lastProcessed'}],\n",
       " 'id': '5787ca08e4b0d27deb3754aa'}"
      ]
     },
     "metadata": {},
     "output_type": "display_data"
    },
    {
     "data": {
      "text/plain": [
       "{'dates': [{'dateString': '2005',\n",
       "   'label': 'Date Collected',\n",
       "   'type': 'Collected'},\n",
       "  {'dateString': '2017-06-20 00:00:00',\n",
       "   'label': 'Last Processing Date',\n",
       "   'type': 'lastProcessed'}],\n",
       " 'id': '5787d03ce4b0d27deb37553e'}"
      ]
     },
     "metadata": {},
     "output_type": "display_data"
    },
    {
     "data": {
      "text/plain": [
       "{'dates': [{'dateString': '2005',\n",
       "   'label': 'Date Collected',\n",
       "   'type': 'Collected'},\n",
       "  {'dateString': '2017-06-20 00:00:00',\n",
       "   'label': 'Last Processing Date',\n",
       "   'type': 'lastProcessed'}],\n",
       " 'id': '5787cb2be4b0d27deb3754c2'}"
      ]
     },
     "metadata": {},
     "output_type": "display_data"
    },
    {
     "data": {
      "text/plain": [
       "{'dates': [{'dateString': '2005',\n",
       "   'label': 'Date Collected',\n",
       "   'type': 'Collected'},\n",
       "  {'dateString': '2017-06-20 00:00:00',\n",
       "   'label': 'Last Processing Date',\n",
       "   'type': 'lastProcessed'}],\n",
       " 'id': '5787cf12e4b0d27deb37551d'}"
      ]
     },
     "metadata": {},
     "output_type": "display_data"
    },
    {
     "data": {
      "text/plain": [
       "{'dates': [{'dateString': '2005',\n",
       "   'label': 'Date Collected',\n",
       "   'type': 'Collected'},\n",
       "  {'dateString': '2017-06-20 00:00:00',\n",
       "   'label': 'Last Processing Date',\n",
       "   'type': 'lastProcessed'}],\n",
       " 'id': '5787d280e4b0d27deb375a01'}"
      ]
     },
     "metadata": {},
     "output_type": "display_data"
    },
    {
     "data": {
      "text/plain": [
       "{'dates': [{'dateString': '2005',\n",
       "   'label': 'Date Collected',\n",
       "   'type': 'Collected'},\n",
       "  {'dateString': '2017-06-20 00:00:00',\n",
       "   'label': 'Last Processing Date',\n",
       "   'type': 'lastProcessed'}],\n",
       " 'id': '5787d1d7e4b0d27deb3758be'}"
      ]
     },
     "metadata": {},
     "output_type": "display_data"
    },
    {
     "data": {
      "text/plain": [
       "{'dates': [{'dateString': '2005',\n",
       "   'label': 'Date Collected',\n",
       "   'type': 'Collected'},\n",
       "  {'dateString': '2017-06-20 00:00:00',\n",
       "   'label': 'Last Processing Date',\n",
       "   'type': 'lastProcessed'}],\n",
       " 'id': '5787d1b3e4b0d27deb375855'}"
      ]
     },
     "metadata": {},
     "output_type": "display_data"
    },
    {
     "data": {
      "text/plain": [
       "{'dates': [{'dateString': '2005',\n",
       "   'label': 'Date Collected',\n",
       "   'type': 'Collected'},\n",
       "  {'dateString': '2017-06-20 00:00:00',\n",
       "   'label': 'Last Processing Date',\n",
       "   'type': 'lastProcessed'}],\n",
       " 'id': '5787cab6e4b0d27deb3754b6'}"
      ]
     },
     "metadata": {},
     "output_type": "display_data"
    },
    {
     "data": {
      "text/plain": [
       "{'dates': [{'dateString': '2005',\n",
       "   'label': 'Date Collected',\n",
       "   'type': 'Collected'},\n",
       "  {'dateString': '2017-06-20 00:00:00',\n",
       "   'label': 'Last Processing Date',\n",
       "   'type': 'lastProcessed'}],\n",
       " 'id': '5787cecde4b0d27deb375515'}"
      ]
     },
     "metadata": {},
     "output_type": "display_data"
    },
    {
     "data": {
      "text/plain": [
       "{'dates': [{'dateString': '2005',\n",
       "   'label': 'Date Collected',\n",
       "   'type': 'Collected'},\n",
       "  {'dateString': '2017-06-20 00:00:00',\n",
       "   'label': 'Last Processing Date',\n",
       "   'type': 'lastProcessed'}],\n",
       " 'id': '5787cc13e4b0d27deb3754d6'}"
      ]
     },
     "metadata": {},
     "output_type": "display_data"
    },
    {
     "data": {
      "text/plain": [
       "{'dates': [{'dateString': '2005',\n",
       "   'label': 'Date Collected',\n",
       "   'type': 'Collected'},\n",
       "  {'dateString': '2017-06-20 00:00:00',\n",
       "   'label': 'Last Processing Date',\n",
       "   'type': 'lastProcessed'}],\n",
       " 'id': '5787d0a6e4b0d27deb3755b9'}"
      ]
     },
     "metadata": {},
     "output_type": "display_data"
    },
    {
     "data": {
      "text/plain": [
       "{'dates': [{'dateString': '2005',\n",
       "   'label': 'Date Collected',\n",
       "   'type': 'Collected'},\n",
       "  {'dateString': '2017-06-20 00:00:00',\n",
       "   'label': 'Last Processing Date',\n",
       "   'type': 'lastProcessed'}],\n",
       " 'id': '5787d176e4b0d27deb375792'}"
      ]
     },
     "metadata": {},
     "output_type": "display_data"
    },
    {
     "data": {
      "text/plain": [
       "{'dates': [{'dateString': '2005',\n",
       "   'label': 'Date Collected',\n",
       "   'type': 'Collected'},\n",
       "  {'dateString': '2017-06-20 00:00:00',\n",
       "   'label': 'Last Processing Date',\n",
       "   'type': 'lastProcessed'}],\n",
       " 'id': '5787ca95e4b0d27deb3754b2'}"
      ]
     },
     "metadata": {},
     "output_type": "display_data"
    },
    {
     "data": {
      "text/plain": [
       "{'dates': [{'dateString': '2005',\n",
       "   'label': 'Date Collected',\n",
       "   'type': 'Collected'},\n",
       "  {'dateString': '2017-06-20 00:00:00',\n",
       "   'label': 'Last Processing Date',\n",
       "   'type': 'lastProcessed'}],\n",
       " 'id': '5787c9c6e4b0d27deb3754a6'}"
      ]
     },
     "metadata": {},
     "output_type": "display_data"
    },
    {
     "data": {
      "text/plain": [
       "{'dates': [{'dateString': '2005',\n",
       "   'label': 'Date Collected',\n",
       "   'type': 'Collected'},\n",
       "  {'dateString': '2017-06-20 00:00:00',\n",
       "   'label': 'Last Processing Date',\n",
       "   'type': 'lastProcessed'}],\n",
       " 'id': '5787ce6ee4b0d27deb37550c'}"
      ]
     },
     "metadata": {},
     "output_type": "display_data"
    },
    {
     "data": {
      "text/plain": [
       "{'dates': [{'dateString': '2005',\n",
       "   'label': 'Date Collected',\n",
       "   'type': 'Collected'},\n",
       "  {'dateString': '2017-06-20 00:00:00',\n",
       "   'label': 'Last Processing Date',\n",
       "   'type': 'lastProcessed'}],\n",
       " 'id': '5787d082e4b0d27deb375567'}"
      ]
     },
     "metadata": {},
     "output_type": "display_data"
    },
    {
     "data": {
      "text/plain": [
       "{'dates': [{'dateString': '2005',\n",
       "   'label': 'Date Collected',\n",
       "   'type': 'Collected'},\n",
       "  {'dateString': '2017-06-20 00:00:00',\n",
       "   'label': 'Last Processing Date',\n",
       "   'type': 'lastProcessed'}],\n",
       " 'id': '5787cb60e4b0d27deb3754c6'}"
      ]
     },
     "metadata": {},
     "output_type": "display_data"
    },
    {
     "data": {
      "text/plain": [
       "{'dates': [{'dateString': '2005',\n",
       "   'label': 'Date Collected',\n",
       "   'type': 'Collected'},\n",
       "  {'dateString': '2017-06-20 00:00:00',\n",
       "   'label': 'Last Processing Date',\n",
       "   'type': 'lastProcessed'}],\n",
       " 'id': '5787ccbfe4b0d27deb3754ea'}"
      ]
     },
     "metadata": {},
     "output_type": "display_data"
    },
    {
     "data": {
      "text/plain": [
       "{'dates': [{'dateString': '2005',\n",
       "   'label': 'Date Collected',\n",
       "   'type': 'Collected'},\n",
       "  {'dateString': '2017-06-20 00:00:00',\n",
       "   'label': 'Last Processing Date',\n",
       "   'type': 'lastProcessed'}],\n",
       " 'id': '5787cf65e4b0d27deb375525'}"
      ]
     },
     "metadata": {},
     "output_type": "display_data"
    },
    {
     "data": {
      "text/plain": [
       "{'dates': [{'dateString': '2005',\n",
       "   'label': 'Date Collected',\n",
       "   'type': 'Collected'},\n",
       "  {'dateString': '2017-06-20 00:00:00',\n",
       "   'label': 'Last Processing Date',\n",
       "   'type': 'lastProcessed'}],\n",
       " 'id': '5787cd50e4b0d27deb3754fb'}"
      ]
     },
     "metadata": {},
     "output_type": "display_data"
    },
    {
     "data": {
      "text/plain": [
       "{'dates': [{'dateString': '2005',\n",
       "   'label': 'Date Collected',\n",
       "   'type': 'Collected'},\n",
       "  {'dateString': '2017-06-20 00:00:00',\n",
       "   'label': 'Last Processing Date',\n",
       "   'type': 'lastProcessed'}],\n",
       " 'id': '5787cbf0e4b0d27deb3754d2'}"
      ]
     },
     "metadata": {},
     "output_type": "display_data"
    },
    {
     "data": {
      "text/plain": [
       "{'dates': [{'dateString': '2005',\n",
       "   'label': 'Date Collected',\n",
       "   'type': 'Collected'},\n",
       "  {'dateString': '2017-06-20 00:00:00',\n",
       "   'label': 'Last Processing Date',\n",
       "   'type': 'lastProcessed'}],\n",
       " 'id': '5787ca30e4b0d27deb3754ae'}"
      ]
     },
     "metadata": {},
     "output_type": "display_data"
    },
    {
     "data": {
      "text/plain": [
       "{'dates': [{'dateString': '2005',\n",
       "   'label': 'Date Collected',\n",
       "   'type': 'Collected'},\n",
       "  {'dateString': '2017-06-20 00:00:00',\n",
       "   'label': 'Last Processing Date',\n",
       "   'type': 'lastProcessed'}],\n",
       " 'id': '5787d245e4b0d27deb375971'}"
      ]
     },
     "metadata": {},
     "output_type": "display_data"
    },
    {
     "data": {
      "text/plain": [
       "{'dates': [{'dateString': '2005',\n",
       "   'label': 'Date Collected',\n",
       "   'type': 'Collected'},\n",
       "  {'dateString': '2017-06-20 00:00:00',\n",
       "   'label': 'Last Processing Date',\n",
       "   'type': 'lastProcessed'}],\n",
       " 'id': '5787d117e4b0d27deb3756ad'}"
      ]
     },
     "metadata": {},
     "output_type": "display_data"
    },
    {
     "data": {
      "text/plain": [
       "{'dates': [{'dateString': '2005',\n",
       "   'label': 'Date Collected',\n",
       "   'type': 'Collected'},\n",
       "  {'dateString': '2017-06-20 00:00:00',\n",
       "   'label': 'Last Processing Date',\n",
       "   'type': 'lastProcessed'}],\n",
       " 'id': '5787cad5e4b0d27deb3754ba'}"
      ]
     },
     "metadata": {},
     "output_type": "display_data"
    },
    {
     "data": {
      "text/plain": [
       "{'dates': [{'dateString': '2005',\n",
       "   'label': 'Date Collected',\n",
       "   'type': 'Collected'},\n",
       "  {'dateString': '2017-06-20 00:00:00',\n",
       "   'label': 'Last Processing Date',\n",
       "   'type': 'lastProcessed'}],\n",
       " 'id': '5787c926e4b0d27deb37549e'}"
      ]
     },
     "metadata": {},
     "output_type": "display_data"
    },
    {
     "data": {
      "text/plain": [
       "{'dates': [{'dateString': '2005',\n",
       "   'label': 'Date Collected',\n",
       "   'type': 'Collected'},\n",
       "  {'dateString': '2017-06-20 00:00:00',\n",
       "   'label': 'Last Processing Date',\n",
       "   'type': 'lastProcessed'}],\n",
       " 'id': '5787d0f1e4b0d27deb375671'}"
      ]
     },
     "metadata": {},
     "output_type": "display_data"
    },
    {
     "data": {
      "text/plain": [
       "{'dates': [{'dateString': '2005',\n",
       "   'label': 'Date Collected',\n",
       "   'type': 'Collected'},\n",
       "  {'dateString': '2017-06-20 00:00:00',\n",
       "   'label': 'Last Processing Date',\n",
       "   'type': 'lastProcessed'}],\n",
       " 'id': '5787d261e4b0d27deb3759c3'}"
      ]
     },
     "metadata": {},
     "output_type": "display_data"
    },
    {
     "data": {
      "text/plain": [
       "{'dates': [{'dateString': '2005',\n",
       "   'label': 'Date Collected',\n",
       "   'type': 'Collected'},\n",
       "  {'dateString': '2017-06-20 00:00:00',\n",
       "   'label': 'Last Processing Date',\n",
       "   'type': 'lastProcessed'}],\n",
       " 'id': '5787d0cce4b0d27deb375618'}"
      ]
     },
     "metadata": {},
     "output_type": "display_data"
    },
    {
     "data": {
      "text/plain": [
       "{'dates': [{'dateString': '2005',\n",
       "   'label': 'Date Collected',\n",
       "   'type': 'Collected'},\n",
       "  {'dateString': '2017-06-20 00:00:00',\n",
       "   'label': 'Last Processing Date',\n",
       "   'type': 'lastProcessed'}],\n",
       " 'id': '5787cdd0e4b0d27deb375504'}"
      ]
     },
     "metadata": {},
     "output_type": "display_data"
    },
    {
     "data": {
      "text/plain": [
       "{'dates': [{'dateString': '2005',\n",
       "   'label': 'Date Collected',\n",
       "   'type': 'Collected'},\n",
       "  {'dateString': '2017-06-20 00:00:00',\n",
       "   'label': 'Last Processing Date',\n",
       "   'type': 'lastProcessed'}],\n",
       " 'id': '5787d134e4b0d27deb3756f2'}"
      ]
     },
     "metadata": {},
     "output_type": "display_data"
    },
    {
     "data": {
      "text/plain": [
       "{'dates': [{'dateString': '2005',\n",
       "   'label': 'Date Collected',\n",
       "   'type': 'Collected'},\n",
       "  {'dateString': '2017-06-20 00:00:00',\n",
       "   'label': 'Last Processing Date',\n",
       "   'type': 'lastProcessed'}],\n",
       " 'id': '5787d192e4b0d27deb375804'}"
      ]
     },
     "metadata": {},
     "output_type": "display_data"
    },
    {
     "data": {
      "text/plain": [
       "{'dates': [{'dateString': '2005',\n",
       "   'label': 'Date Collected',\n",
       "   'type': 'Collected'},\n",
       "  {'dateString': '2017-06-20 00:00:00',\n",
       "   'label': 'Last Processing Date',\n",
       "   'type': 'lastProcessed'}],\n",
       " 'id': '5787cf86e4b0d27deb375529'}"
      ]
     },
     "metadata": {},
     "output_type": "display_data"
    },
    {
     "data": {
      "text/plain": [
       "{'dates': [{'dateString': '2005',\n",
       "   'label': 'Date Collected',\n",
       "   'type': 'Collected'},\n",
       "  {'dateString': '2017-06-20 00:00:00',\n",
       "   'label': 'Last Processing Date',\n",
       "   'type': 'lastProcessed'}],\n",
       " 'id': '5787cc9ce4b0d27deb3754e6'}"
      ]
     },
     "metadata": {},
     "output_type": "display_data"
    },
    {
     "data": {
      "text/plain": [
       "{'dates': [{'dateString': '2005',\n",
       "   'label': 'Date Collected',\n",
       "   'type': 'Collected'},\n",
       "  {'dateString': '2017-06-20 00:00:00',\n",
       "   'label': 'Last Processing Date',\n",
       "   'type': 'lastProcessed'}],\n",
       " 'id': '5787d1f5e4b0d27deb3758f8'}"
      ]
     },
     "metadata": {},
     "output_type": "display_data"
    },
    {
     "data": {
      "text/plain": [
       "{'dates': [{'dateString': '2005',\n",
       "   'label': 'Date Collected',\n",
       "   'type': 'Collected'},\n",
       "  {'dateString': '2017-06-20 00:00:00',\n",
       "   'label': 'Last Processing Date',\n",
       "   'type': 'lastProcessed'}],\n",
       " 'id': '5787cc6ee4b0d27deb3754e2'}"
      ]
     },
     "metadata": {},
     "output_type": "display_data"
    },
    {
     "data": {
      "text/plain": [
       "{'dates': [{'dateString': '2015-11-02',\n",
       "   'label': 'Acquisition',\n",
       "   'type': 'Acquisition'},\n",
       "  {'dateString': '2015', 'label': 'Date Collected', 'type': 'Collected'},\n",
       "  {'dateString': '2017-06-20 00:00:00',\n",
       "   'label': 'Last Processing Date',\n",
       "   'type': 'lastProcessed'}],\n",
       " 'id': '56d725c7e4b015c306f4580a'}"
      ]
     },
     "metadata": {},
     "output_type": "display_data"
    },
    {
     "data": {
      "text/plain": [
       "{'dates': [{'dateString': '2005',\n",
       "   'label': 'Date Collected',\n",
       "   'type': 'Collected'},\n",
       "  {'dateString': '2017-06-20 00:00:00',\n",
       "   'label': 'Last Processing Date',\n",
       "   'type': 'lastProcessed'}],\n",
       " 'id': '5787d01de4b0d27deb37553a'}"
      ]
     },
     "metadata": {},
     "output_type": "display_data"
    },
    {
     "data": {
      "text/plain": [
       "{'dates': [{'dateString': '2005',\n",
       "   'label': 'Date Collected',\n",
       "   'type': 'Collected'},\n",
       "  {'dateString': '2017-06-20 00:00:00',\n",
       "   'label': 'Last Processing Date',\n",
       "   'type': 'lastProcessed'}],\n",
       " 'id': '5787d064e4b0d27deb37554a'}"
      ]
     },
     "metadata": {},
     "output_type": "display_data"
    },
    {
     "data": {
      "text/plain": [
       "{'dates': [{'dateString': '2005',\n",
       "   'label': 'Date Collected',\n",
       "   'type': 'Collected'},\n",
       "  {'dateString': '2017-06-20 00:00:00',\n",
       "   'label': 'Last Processing Date',\n",
       "   'type': 'lastProcessed'}],\n",
       " 'id': '5787cbb7e4b0d27deb3754ce'}"
      ]
     },
     "metadata": {},
     "output_type": "display_data"
    },
    {
     "data": {
      "text/plain": [
       "{'dates': [{'dateString': '2015-08-17',\n",
       "   'label': 'Date Received',\n",
       "   'type': 'Received '},\n",
       "  {'dateString': '2015', 'label': 'Date Collected', 'type': 'Collected'},\n",
       "  {'dateString': '2017-06-20 00:00:00',\n",
       "   'label': 'Last Processing Date',\n",
       "   'type': 'lastProcessed'}],\n",
       " 'id': '56d723c6e4b015c306f457de'}"
      ]
     },
     "metadata": {},
     "output_type": "display_data"
    },
    {
     "data": {
      "text/plain": [
       "{'dates': [{'dateString': '2005',\n",
       "   'label': 'Date Collected',\n",
       "   'type': 'Collected'},\n",
       "  {'dateString': '2017-06-20 00:00:00',\n",
       "   'label': 'Last Processing Date',\n",
       "   'type': 'lastProcessed'}],\n",
       " 'id': '5787cb81e4b0d27deb3754ca'}"
      ]
     },
     "metadata": {},
     "output_type": "display_data"
    },
    {
     "data": {
      "text/plain": [
       "{'dates': [{'dateString': '2005',\n",
       "   'label': 'Date Collected',\n",
       "   'type': 'Collected'},\n",
       "  {'dateString': '2017-06-20 00:00:00',\n",
       "   'label': 'Last Processing Date',\n",
       "   'type': 'lastProcessed'}],\n",
       " 'id': '5787ceeee4b0d27deb375519'}"
      ]
     },
     "metadata": {},
     "output_type": "display_data"
    },
    {
     "data": {
      "text/plain": [
       "{'dates': [{'dateString': '2005',\n",
       "   'label': 'Date Collected',\n",
       "   'type': 'Collected'},\n",
       "  {'dateString': '2017-06-20 00:00:00',\n",
       "   'label': 'Last Processing Date',\n",
       "   'type': 'lastProcessed'}],\n",
       " 'id': '5787d159e4b0d27deb375738'}"
      ]
     },
     "metadata": {},
     "output_type": "display_data"
    },
    {
     "data": {
      "text/plain": [
       "{'dates': [{'dateString': '2005',\n",
       "   'label': 'Date Collected',\n",
       "   'type': 'Collected'},\n",
       "  {'dateString': '2017-06-20 00:00:00',\n",
       "   'label': 'Last Processing Date',\n",
       "   'type': 'lastProcessed'}],\n",
       " 'id': '5787cff7e4b0d27deb375536'}"
      ]
     },
     "metadata": {},
     "output_type": "display_data"
    },
    {
     "data": {
      "text/plain": [
       "{'dates': [{'dateString': '2005',\n",
       "   'label': 'Date Collected',\n",
       "   'type': 'Collected'},\n",
       "  {'dateString': '2017-06-20 00:00:00',\n",
       "   'label': 'Last Processing Date',\n",
       "   'type': 'lastProcessed'}],\n",
       " 'id': '5787cce8e4b0d27deb3754ee'}"
      ]
     },
     "metadata": {},
     "output_type": "display_data"
    },
    {
     "data": {
      "text/plain": [
       "{'dates': [{'dateString': '2005',\n",
       "   'label': 'Date Collected',\n",
       "   'type': 'Collected'},\n",
       "  {'dateString': '2017-06-20 00:00:00',\n",
       "   'label': 'Last Processing Date',\n",
       "   'type': 'lastProcessed'}],\n",
       " 'id': '5787cfaee4b0d27deb37552e'}"
      ]
     },
     "metadata": {},
     "output_type": "display_data"
    },
    {
     "data": {
      "text/plain": [
       "{'dates': [{'dateString': '2005',\n",
       "   'label': 'Date Collected',\n",
       "   'type': 'Collected'},\n",
       "  {'dateString': '2017-06-20 00:00:00',\n",
       "   'label': 'Last Processing Date',\n",
       "   'type': 'lastProcessed'}],\n",
       " 'id': '5787ce20e4b0d27deb375508'}"
      ]
     },
     "metadata": {},
     "output_type": "display_data"
    },
    {
     "data": {
      "text/plain": [
       "{'dates': [{'dateString': '2005',\n",
       "   'label': 'Date Collected',\n",
       "   'type': 'Collected'},\n",
       "  {'dateString': '2017-06-20 00:00:00',\n",
       "   'label': 'Last Processing Date',\n",
       "   'type': 'lastProcessed'}],\n",
       " 'id': '5787d228e4b0d27deb375941'}"
      ]
     },
     "metadata": {},
     "output_type": "display_data"
    },
    {
     "data": {
      "text/plain": [
       "{'dates': [{'dateString': '2005',\n",
       "   'label': 'Date Collected',\n",
       "   'type': 'Collected'},\n",
       "  {'dateString': '2017-06-20 00:00:00',\n",
       "   'label': 'Last Processing Date',\n",
       "   'type': 'lastProcessed'}],\n",
       " 'id': '5787cfd2e4b0d27deb375532'}"
      ]
     },
     "metadata": {},
     "output_type": "display_data"
    },
    {
     "data": {
      "text/plain": [
       "{'dates': [{'dateString': '2005',\n",
       "   'label': 'Date Collected',\n",
       "   'type': 'Collected'},\n",
       "  {'dateString': '2017-06-20 00:00:00',\n",
       "   'label': 'Last Processing Date',\n",
       "   'type': 'lastProcessed'}],\n",
       " 'id': '5787cc34e4b0d27deb3754da'}"
      ]
     },
     "metadata": {},
     "output_type": "display_data"
    },
    {
     "data": {
      "text/plain": [
       "{'dates': [{'dateString': '2005',\n",
       "   'label': 'Date Collected',\n",
       "   'type': 'Collected'},\n",
       "  {'dateString': '2017-06-20 00:00:00',\n",
       "   'label': 'Last Processing Date',\n",
       "   'type': 'lastProcessed'}],\n",
       " 'id': '5787cda1e4b0d27deb375500'}"
      ]
     },
     "metadata": {},
     "output_type": "display_data"
    },
    {
     "data": {
      "text/plain": [
       "{'dates': [{'dateString': '2005',\n",
       "   'label': 'Date Collected',\n",
       "   'type': 'Collected'},\n",
       "  {'dateString': '2017-06-20 00:00:00',\n",
       "   'label': 'Last Processing Date',\n",
       "   'type': 'lastProcessed'}],\n",
       " 'id': '5787cafde4b0d27deb3754be'}"
      ]
     },
     "metadata": {},
     "output_type": "display_data"
    },
    {
     "data": {
      "text/plain": [
       "{'dates': [{'dateString': '2005',\n",
       "   'label': 'Date Collected',\n",
       "   'type': 'Collected'},\n",
       "  {'dateString': '2017-06-20 00:00:00',\n",
       "   'label': 'Last Processing Date',\n",
       "   'type': 'lastProcessed'}],\n",
       " 'id': '5787cf43e4b0d27deb375521'}"
      ]
     },
     "metadata": {},
     "output_type": "display_data"
    },
    {
     "data": {
      "text/plain": [
       "{'dates': [{'dateString': '2016-11-28',\n",
       "   'label': 'Acquisition',\n",
       "   'type': 'Acquisition'},\n",
       "  {'dateString': '2015', 'label': 'Date Collected', 'type': 'Collected'},\n",
       "  {'dateString': '2017-06-20 00:00:00',\n",
       "   'label': 'Last Processing Date',\n",
       "   'type': 'lastProcessed'}],\n",
       " 'id': '583c4946e4b0d9329c80c263'}"
      ]
     },
     "metadata": {},
     "output_type": "display_data"
    },
    {
     "data": {
      "text/plain": [
       "{'dates': [{'dateString': '2016-11-08',\n",
       "   'label': 'Acquisition',\n",
       "   'type': 'Acquisition'},\n",
       "  {'dateString': '2015', 'label': 'Date Collected', 'type': 'Collected'},\n",
       "  {'dateString': '2017-06-20 00:00:00',\n",
       "   'label': 'Last Processing Date',\n",
       "   'type': 'lastProcessed'}],\n",
       " 'id': '5821eb59e4b0a3e2fc7b3a3f'}"
      ]
     },
     "metadata": {},
     "output_type": "display_data"
    }
   ],
   "source": [
    "import requests\n",
    "from IPython.display import display\n",
    "\n",
    "# Get all items from the collection for SGCN\n",
    "r = requests.get(\"https://www.sciencebase.gov/catalog/items?parentId=56d720ece4b015c306f442d5&format=json&fields=title,dates&max=100\").json()\n",
    "\n",
    "# Loop through the items\n",
    "for item in r['items']:\n",
    "    keepDates = []\n",
    "    # Keep only the non-system dates (created and last updated have to go away or the update code fails)\n",
    "    for date in item[\"dates\"]:\n",
    "        if date[\"type\"] == \"dateCreated\" or date[\"type\"] == \"lastUpdated\":\n",
    "            pass\n",
    "        else:\n",
    "            keepDates.append(date.copy())\n",
    "    \n",
    "    dateProcessed = {}\n",
    "    dateProcessed[\"dateString\"] = \"2017-06-20 00:00:00\"\n",
    "    dateProcessed[\"label\"] = \"Last Processing Date\"\n",
    "    dateProcessed[\"type\"] = \"lastProcessed\"\n",
    "    keepDates.append(dateProcessed.copy())\n",
    "\n",
    "    itemUpdate = {}\n",
    "    itemUpdate[\"id\"] = item[\"id\"]\n",
    "    itemUpdate[\"dates\"] = keepDates\n",
    "    \n",
    "    display (itemUpdate)\n",
    "    sb.update_item(itemUpdate)\n"
   ]
  },
  {
   "cell_type": "code",
   "execution_count": null,
   "metadata": {
    "collapsed": true
   },
   "outputs": [],
   "source": []
  }
 ],
 "metadata": {
  "kernelspec": {
   "display_name": "Python 3",
   "language": "python",
   "name": "python3"
  },
  "language_info": {
   "codemirror_mode": {
    "name": "ipython",
    "version": 3
   },
   "file_extension": ".py",
   "mimetype": "text/x-python",
   "name": "python",
   "nbconvert_exporter": "python",
   "pygments_lexer": "ipython3",
   "version": "3.5.3"
  }
 },
 "nbformat": 4,
 "nbformat_minor": 0
}
