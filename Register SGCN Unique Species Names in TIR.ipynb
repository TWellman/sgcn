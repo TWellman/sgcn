{
 "cells": [
  {
   "cell_type": "code",
   "execution_count": 1,
   "metadata": {
    "collapsed": false,
    "deletable": true,
    "editable": true
   },
   "outputs": [],
   "source": [
    "import requests,io,datetime,configparser\n",
    "from IPython.display import display\n",
    "import pandas as pd"
   ]
  },
  {
   "cell_type": "code",
   "execution_count": 2,
   "metadata": {
    "collapsed": true,
    "deletable": true,
    "editable": true
   },
   "outputs": [],
   "source": [
    "# Get API keys and any other config details from a file that is external to the code.\n",
    "config = configparser.RawConfigParser()\n",
    "config.read_file(open(r'../config/stuff.py'))\n",
    "\n",
    "dt = datetime.datetime.utcnow().isoformat()"
   ]
  },
  {
   "cell_type": "code",
   "execution_count": 3,
   "metadata": {
    "collapsed": true,
    "deletable": true,
    "editable": true
   },
   "outputs": [],
   "source": [
    "# Build base URL with API key using input from the external config.\n",
    "def getBaseURL():\n",
    "    gc2APIKey = config.get('apiKeys','apiKey_GC2_BCB').replace('\"','')\n",
    "    apiBaseURL = \"https://gc2.mapcentia.com/api/v1/sql/bcb?key=\"+gc2APIKey\n",
    "    return apiBaseURL"
   ]
  },
  {
   "cell_type": "code",
   "execution_count": 4,
   "metadata": {
    "collapsed": true,
    "deletable": true,
    "editable": true
   },
   "outputs": [],
   "source": [
    "# Basic function to insert registration info pairs into TIR\n",
    "def idsToTIR(recordInfoPairs):\n",
    "    # Build query string\n",
    "    insertSQL = \"INSERT INTO tir.tir2 (registration) VALUES ('\"+recordInfoPairs+\"')\"\n",
    "    # Execute query\n",
    "    response = requests.get(getBaseURL()+\"&q=\"+insertSQL).json()\n",
    "    return response"
   ]
  },
  {
   "cell_type": "code",
   "execution_count": 8,
   "metadata": {
    "collapsed": false,
    "deletable": true,
    "editable": true
   },
   "outputs": [],
   "source": [
    "speciesQ = \"SELECT DISTINCT scientificname_submitted FROM sgcn.sgcn \\\n",
    "    WHERE scientificname_submitted <> '' \\\n",
    "    AND scientificname_submitted NOT IN \\\n",
    "    (SELECT registration -> 'SGCN_ScientificName_Submitted' AS scientificname_submitted FROM tir.tir2) \\\n",
    "    ORDER BY scientificname_submitted\"\n",
    "speciesR = requests.get(getBaseURL()+\"&q=\"+speciesQ).json()"
   ]
  },
  {
   "cell_type": "code",
   "execution_count": 9,
   "metadata": {
    "collapsed": false,
    "deletable": true,
    "editable": true
   },
   "outputs": [
    {
     "name": "stdout",
     "output_type": "stream",
     "text": [
      "{'_execution_time': 0.145, 'success': True, 'auth_check': {'auth_level': None, 'success': True, 'session': None}, 'affected_rows': 1}\n",
      "{'_execution_time': 0.061, 'success': True, 'auth_check': {'auth_level': None, 'success': True, 'session': None}, 'affected_rows': 1}\n",
      "{'_execution_time': 0.104, 'success': True, 'auth_check': {'auth_level': None, 'success': True, 'session': None}, 'affected_rows': 1}\n",
      "{'_execution_time': 0.058, 'success': True, 'auth_check': {'auth_level': None, 'success': True, 'session': None}, 'affected_rows': 1}\n",
      "{'_execution_time': 0.061, 'success': True, 'auth_check': {'auth_level': None, 'success': True, 'session': None}, 'affected_rows': 1}\n"
     ]
    }
   ],
   "source": [
    "for sgcnRecord in speciesR['features']:\n",
    "    recordInfoPairs = '\"registrationDate\" => \"'+dt+'\"'\n",
    "    recordInfoPairs = recordInfoPairs+',\"SGCN_ScientificName_Submitted\"=>\"'+sgcnRecord['properties']['scientificname_submitted'].replace(\"\\'\",\"''\")+'\"'\n",
    "    try:\n",
    "        print (idsToTIR(recordInfoPairs))\n",
    "    except:\n",
    "        print (\"Problem with: \"+recordInfoPairs)"
   ]
  },
  {
   "cell_type": "code",
   "execution_count": null,
   "metadata": {
    "collapsed": true,
    "deletable": true,
    "editable": true
   },
   "outputs": [],
   "source": []
  }
 ],
 "metadata": {
  "kernelspec": {
   "display_name": "Python 3",
   "language": "python",
   "name": "python3"
  },
  "language_info": {
   "codemirror_mode": {
    "name": "ipython",
    "version": 3
   },
   "file_extension": ".py",
   "mimetype": "text/x-python",
   "name": "python",
   "nbconvert_exporter": "python",
   "pygments_lexer": "ipython3",
   "version": "3.5.3"
  }
 },
 "nbformat": 4,
 "nbformat_minor": 0
}
