{
 "cells": [
  {
   "cell_type": "markdown",
   "metadata": {},
   "source": [
    "This notebook updates the registration info in the TIR for SGCN records to include the submitted taxonomic group. This property needs to be added to the original processing script as well. I did this so that we can put a step into the process that builds out new values we want to apply for taxonomic grouping to species that are aligned with taxonomic authorities."
   ]
  },
  {
   "cell_type": "code",
   "execution_count": 1,
   "metadata": {
    "collapsed": true,
    "deletable": true,
    "editable": true
   },
   "outputs": [],
   "source": [
    "import requests,configparser\n",
    "from IPython.display import display\n"
   ]
  },
  {
   "cell_type": "code",
   "execution_count": 2,
   "metadata": {
    "collapsed": true,
    "deletable": true,
    "editable": true
   },
   "outputs": [],
   "source": [
    "# Get API keys and any other config details from a file that is external to the code.\n",
    "config = configparser.RawConfigParser()\n",
    "config.read_file(open(r'../config/stuff.py'))"
   ]
  },
  {
   "cell_type": "code",
   "execution_count": 3,
   "metadata": {
    "collapsed": true,
    "deletable": true,
    "editable": true
   },
   "outputs": [],
   "source": [
    "# Build base URL with API key using input from the external config.\n",
    "def getBaseURL():\n",
    "    gc2APIKey = config.get('apiKeys','apiKey_GC2_BCB').replace('\"','')\n",
    "    apiBaseURL = \"https://gc2.mapcentia.com/api/v1/sql/bcb?key=\"+gc2APIKey\n",
    "    return apiBaseURL"
   ]
  },
  {
   "cell_type": "code",
   "execution_count": 9,
   "metadata": {
    "collapsed": false,
    "deletable": true,
    "editable": true
   },
   "outputs": [
    {
     "data": {
      "text/plain": [
       "{'_execution_time': 0.093,\n",
       " 'affected_rows': 1,\n",
       " 'auth_check': {'auth_level': 'Write',\n",
       "  'checked_relations': ['tir.tir2'],\n",
       "  'session': None,\n",
       "  'success': True},\n",
       " 'success': True}"
      ]
     },
     "metadata": {},
     "output_type": "display_data"
    },
    {
     "data": {
      "text/plain": [
       "{'_execution_time': 0.099,\n",
       " 'affected_rows': 1,\n",
       " 'auth_check': {'auth_level': 'Write',\n",
       "  'checked_relations': ['tir.tir2'],\n",
       "  'session': None,\n",
       "  'success': True},\n",
       " 'success': True}"
      ]
     },
     "metadata": {},
     "output_type": "display_data"
    },
    {
     "data": {
      "text/plain": [
       "{'_execution_time': 0.094,\n",
       " 'affected_rows': 1,\n",
       " 'auth_check': {'auth_level': 'Write',\n",
       "  'checked_relations': ['tir.tir2'],\n",
       "  'session': None,\n",
       "  'success': True},\n",
       " 'success': True}"
      ]
     },
     "metadata": {},
     "output_type": "display_data"
    },
    {
     "data": {
      "text/plain": [
       "{'_execution_time': 0.096,\n",
       " 'affected_rows': 1,\n",
       " 'auth_check': {'auth_level': 'Write',\n",
       "  'checked_relations': ['tir.tir2'],\n",
       "  'session': None,\n",
       "  'success': True},\n",
       " 'success': True}"
      ]
     },
     "metadata": {},
     "output_type": "display_data"
    },
    {
     "data": {
      "text/plain": [
       "{'_execution_time': 0.094,\n",
       " 'affected_rows': 1,\n",
       " 'auth_check': {'auth_level': 'Write',\n",
       "  'checked_relations': ['tir.tir2'],\n",
       "  'session': None,\n",
       "  'success': True},\n",
       " 'success': True}"
      ]
     },
     "metadata": {},
     "output_type": "display_data"
    },
    {
     "data": {
      "text/plain": [
       "{'_execution_time': 0.095,\n",
       " 'affected_rows': 1,\n",
       " 'auth_check': {'auth_level': 'Write',\n",
       "  'checked_relations': ['tir.tir2'],\n",
       "  'session': None,\n",
       "  'success': True},\n",
       " 'success': True}"
      ]
     },
     "metadata": {},
     "output_type": "display_data"
    },
    {
     "data": {
      "text/plain": [
       "{'_execution_time': 0.095,\n",
       " 'affected_rows': 1,\n",
       " 'auth_check': {'auth_level': 'Write',\n",
       "  'checked_relations': ['tir.tir2'],\n",
       "  'session': None,\n",
       "  'success': True},\n",
       " 'success': True}"
      ]
     },
     "metadata": {},
     "output_type": "display_data"
    },
    {
     "data": {
      "text/plain": [
       "{'_execution_time': 0.093,\n",
       " 'affected_rows': 1,\n",
       " 'auth_check': {'auth_level': 'Write',\n",
       "  'checked_relations': ['tir.tir2'],\n",
       "  'session': None,\n",
       "  'success': True},\n",
       " 'success': True}"
      ]
     },
     "metadata": {},
     "output_type": "display_data"
    },
    {
     "data": {
      "text/plain": [
       "{'_execution_time': 0.094,\n",
       " 'affected_rows': 1,\n",
       " 'auth_check': {'auth_level': 'Write',\n",
       "  'checked_relations': ['tir.tir2'],\n",
       "  'session': None,\n",
       "  'success': True},\n",
       " 'success': True}"
      ]
     },
     "metadata": {},
     "output_type": "display_data"
    },
    {
     "data": {
      "text/plain": [
       "{'_execution_time': 0.093,\n",
       " 'affected_rows': 1,\n",
       " 'auth_check': {'auth_level': 'Write',\n",
       "  'checked_relations': ['tir.tir2'],\n",
       "  'session': None,\n",
       "  'success': True},\n",
       " 'success': True}"
      ]
     },
     "metadata": {},
     "output_type": "display_data"
    }
   ],
   "source": [
    "r = requests.get(getBaseURL()+\"&q=SELECT scientificname_submitted, taxonomicgroup_submitted FROM sgcn.sgcn WHERE taxonomicgroup_submitted <> '' ORDER BY taxonomicgroup_submitted LIMIT 10\").json()\n",
    "\n",
    "for feature in r[\"features\"]:\n",
    "    tg = '\"taxonomicgroup_submitted\"=>\"'+feature[\"properties\"][\"taxonomicgroup_submitted\"]+'\"'\n",
    "    display (requests.get(getBaseURL()+\"&q=UPDATE tir.tir2 SET registration = registration || '\"+tg+\"' :: hstore WHERE registration->'SGCN_ScientificName_Submitted' = '\"+feature[\"properties\"][\"scientificname_submitted\"]+\"' AND NOT EXIST(registration, 'taxonomicgroup_submitted')\").json())\n",
    "    \n",
    "    "
   ]
  },
  {
   "cell_type": "code",
   "execution_count": null,
   "metadata": {
    "collapsed": true,
    "deletable": true,
    "editable": true
   },
   "outputs": [],
   "source": []
  }
 ],
 "metadata": {
  "kernelspec": {
   "display_name": "Python 3",
   "language": "python",
   "name": "python3"
  },
  "language_info": {
   "codemirror_mode": {
    "name": "ipython",
    "version": 3
   },
   "file_extension": ".py",
   "mimetype": "text/x-python",
   "name": "python",
   "nbconvert_exporter": "python",
   "pygments_lexer": "ipython3",
   "version": "3.5.3"
  }
 },
 "nbformat": 4,
 "nbformat_minor": 0
}
