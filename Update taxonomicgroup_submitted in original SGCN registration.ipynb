{
 "cells": [
  {
   "cell_type": "markdown",
   "metadata": {
    "deletable": true,
    "editable": true
   },
   "source": [
    "This notebook updates the registration info in the TIR for SGCN records to include the submitted taxonomic group. This property needs to be added to the original processing script as well. I did this so that we can put a step into the process that builds out new values we want to apply for taxonomic grouping to species that are aligned with taxonomic authorities."
   ]
  },
  {
   "cell_type": "code",
   "execution_count": 1,
   "metadata": {
    "collapsed": true,
    "deletable": true,
    "editable": true
   },
   "outputs": [],
   "source": [
    "import requests,configparser\n",
    "from IPython.display import display\n"
   ]
  },
  {
   "cell_type": "code",
   "execution_count": 2,
   "metadata": {
    "collapsed": true,
    "deletable": true,
    "editable": true
   },
   "outputs": [],
   "source": [
    "# Get API keys and any other config details from a file that is external to the code.\n",
    "config = configparser.RawConfigParser()\n",
    "config.read_file(open(r'../config/stuff.py'))"
   ]
  },
  {
   "cell_type": "code",
   "execution_count": 3,
   "metadata": {
    "collapsed": true,
    "deletable": true,
    "editable": true
   },
   "outputs": [],
   "source": [
    "# Build base URL with API key using input from the external config.\n",
    "def getBaseURL():\n",
    "    gc2APIKey = config.get('apiKeys','apiKey_GC2_BCB').replace('\"','')\n",
    "    apiBaseURL = \"https://gc2.mapcentia.com/api/v1/sql/bcb?key=\"+gc2APIKey\n",
    "    return apiBaseURL"
   ]
  },
  {
   "cell_type": "code",
   "execution_count": 14,
   "metadata": {
    "collapsed": false,
    "deletable": true,
    "editable": true
   },
   "outputs": [
    {
     "name": "stdout",
     "output_type": "stream",
     "text": [
      "UPDATE tir.tir2 SET registration = registration || '\"taxonomicgroup_submitted\"=>\"Plants\"' :: hstore WHERE gid = 838\n",
      "{'success': True, 'auth_check': {'success': True, 'checked_relations': ['tir.tir2'], 'session': None, 'auth_level': 'Write'}, '_execution_time': 0.076, 'affected_rows': 1}\n",
      "UPDATE tir.tir2 SET registration = registration || '\"taxonomicgroup_submitted\"=>\"Plants\"' :: hstore WHERE gid = 842\n",
      "{'success': True, 'auth_check': {'success': True, 'checked_relations': ['tir.tir2'], 'session': None, 'auth_level': 'Write'}, '_execution_time': 0.076, 'affected_rows': 1}\n",
      "UPDATE tir.tir2 SET registration = registration || '\"taxonomicgroup_submitted\"=>\"Plants\"' :: hstore WHERE gid = 846\n",
      "{'success': True, 'auth_check': {'success': True, 'checked_relations': ['tir.tir2'], 'session': None, 'auth_level': 'Write'}, '_execution_time': 0.076, 'affected_rows': 1}\n",
      "UPDATE tir.tir2 SET registration = registration || '\"taxonomicgroup_submitted\"=>\"Plants\"' :: hstore WHERE gid = 15562\n",
      "{'success': True, 'auth_check': {'success': True, 'checked_relations': ['tir.tir2'], 'session': None, 'auth_level': 'Write'}, '_execution_time': 0.075, 'affected_rows': 1}\n",
      "UPDATE tir.tir2 SET registration = registration || '\"taxonomicgroup_submitted\"=>\"Plants\"' :: hstore WHERE gid = 16071\n",
      "{'success': True, 'auth_check': {'success': True, 'checked_relations': ['tir.tir2'], 'session': None, 'auth_level': 'Write'}, '_execution_time': 0.078, 'affected_rows': 1}\n",
      "UPDATE tir.tir2 SET registration = registration || '\"taxonomicgroup_submitted\"=>\"Birds\"' :: hstore WHERE gid = 12079\n",
      "{'success': True, 'auth_check': {'success': True, 'checked_relations': ['tir.tir2'], 'session': None, 'auth_level': 'Write'}, '_execution_time': 0.077, 'affected_rows': 1}\n",
      "UPDATE tir.tir2 SET registration = registration || '\"taxonomicgroup_submitted\"=>\"Plants\"' :: hstore WHERE gid = 16852\n",
      "{'success': True, 'auth_check': {'success': True, 'checked_relations': ['tir.tir2'], 'session': None, 'auth_level': 'Write'}, '_execution_time': 0.075, 'affected_rows': 1}\n",
      "UPDATE tir.tir2 SET registration = registration || '\"taxonomicgroup_submitted\"=>\"Reptiles\"' :: hstore WHERE gid = 4313\n",
      "{'success': True, 'auth_check': {'success': True, 'checked_relations': ['tir.tir2'], 'session': None, 'auth_level': 'Write'}, '_execution_time': 0.078, 'affected_rows': 1}\n",
      "UPDATE tir.tir2 SET registration = registration || '\"taxonomicgroup_submitted\"=>\"Plants\"' :: hstore WHERE gid = 851\n",
      "{'success': True, 'auth_check': {'success': True, 'checked_relations': ['tir.tir2'], 'session': None, 'auth_level': 'Write'}, '_execution_time': 0.076, 'affected_rows': 1}\n",
      "UPDATE tir.tir2 SET registration = registration || '\"taxonomicgroup_submitted\"=>\"Plants\"' :: hstore WHERE gid = 852\n",
      "{'success': True, 'auth_check': {'success': True, 'checked_relations': ['tir.tir2'], 'session': None, 'auth_level': 'Write'}, '_execution_time': 0.077, 'affected_rows': 1}\n"
     ]
    }
   ],
   "source": [
    "notFilled = requests.get(getBaseURL()+\"&q=SELECT t.gid, s.taxonomicgroup_submitted FROM tir.tir2 t JOIN sgcn.sgcn s ON s.scientificname_submitted = t.registration->'SGCN_ScientificName_Submitted' WHERE s.taxonomicgroup_submitted <> '' AND not exist (t.registration,'taxonomicgroup_submitted') LIMIT 10\").json()\n",
    "\n",
    "for feature in notFilled[\"features\"]:\n",
    "    tg = '\"taxonomicgroup_submitted\"=>\"'+feature[\"properties\"][\"taxonomicgroup_submitted\"]+'\"'\n",
    "    q = \"UPDATE tir.tir2 SET registration = registration || '\"+tg+\"' :: hstore WHERE gid = \"+str(feature[\"properties\"][\"gid\"])\n",
    "    print (q)\n",
    "    print (requests.get(getBaseURL()+\"&q=\"+q).json())\n"
   ]
  },
  {
   "cell_type": "code",
   "execution_count": null,
   "metadata": {
    "collapsed": true,
    "deletable": true,
    "editable": true
   },
   "outputs": [],
   "source": []
  }
 ],
 "metadata": {
  "kernelspec": {
   "display_name": "Python 3",
   "language": "python",
   "name": "python3"
  },
  "language_info": {
   "codemirror_mode": {
    "name": "ipython",
    "version": 3
   },
   "file_extension": ".py",
   "mimetype": "text/x-python",
   "name": "python",
   "nbconvert_exporter": "python",
   "pygments_lexer": "ipython3",
   "version": "3.5.3"
  }
 },
 "nbformat": 4,
 "nbformat_minor": 0
}
