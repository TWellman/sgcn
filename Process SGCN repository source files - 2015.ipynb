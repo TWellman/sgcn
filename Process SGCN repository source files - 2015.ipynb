{
 "cells": [
  {
   "cell_type": "code",
   "execution_count": 1,
   "metadata": {
    "collapsed": false,
    "deletable": true,
    "editable": true
   },
   "outputs": [],
   "source": [
    "import requests,io,configparser\n",
    "from IPython.display import display\n",
    "import pandas as pd"
   ]
  },
  {
   "cell_type": "code",
   "execution_count": 2,
   "metadata": {
    "collapsed": true,
    "deletable": true,
    "editable": true
   },
   "outputs": [],
   "source": [
    "# Get API keys and any other config details from a file that is external to the code.\n",
    "config = configparser.RawConfigParser()\n",
    "config.read_file(open(r'../config/stuff.py'))"
   ]
  },
  {
   "cell_type": "code",
   "execution_count": 3,
   "metadata": {
    "collapsed": true,
    "deletable": true,
    "editable": true
   },
   "outputs": [],
   "source": [
    "# Build base URL with API key using input from the external config.\n",
    "def getBaseURL():\n",
    "    gc2APIKey = config.get('apiKeys','apiKey_GC2_BCB').replace('\"','')\n",
    "    apiBaseURL = \"https://gc2.mapcentia.com/api/v1/sql/bcb?key=\"+gc2APIKey\n",
    "    return apiBaseURL"
   ]
  },
  {
   "cell_type": "markdown",
   "metadata": {
    "deletable": true,
    "editable": true
   },
   "source": [
    "This notebook repeats the same basic process I set up for the 2005 states. I made a run at processing the original Excel files directly, but there was so much variability in those, that the exceptions would have been a mess. Thanks to Abby for having already processed those into individual text files that are nicely standardized.\n",
    "\n",
    "The 2015 lists introduced a new concept where we asked the states whether or not the given species was included on their 2005 list. I translated this into a property that I called \"firstyear.\" I used the range of \"no\" values that the states used in their information to make firstyear = true. This is essentially what we are after here, a way to determine whether a species is showing up for a state the first time. Once we have all the data in the system, we can run a couple of interesting queries using these assertions:\n",
    "\n",
    "* For firstyear = false, we can check to see if we find that species in the 2005 list for the state. If not, we might want to investigate to see if we did something wrong in getting data out of the SWAP reports (whoever did that work way back when).\n",
    "* For firstyear = true, we can validate to make sure the species was not listed for 2005. We can then provide a report showing both those species that are explicitly new for a state and those that are new in our data. The former will have a greater certainty."
   ]
  },
  {
   "cell_type": "code",
   "execution_count": 16,
   "metadata": {
    "collapsed": true,
    "deletable": true,
    "editable": true
   },
   "outputs": [],
   "source": [
    "# Query ScienceBase for the 2015 states, returning the files structure along with tags (where we get state name)\n",
    "sbQ = \"https://www.sciencebase.gov/catalog/items?q=2015&parentId=56d720ece4b015c306f442d5&format=json&fields=files,tags&max=100\"\n",
    "sbR = requests.get(sbQ).json()"
   ]
  },
  {
   "cell_type": "code",
   "execution_count": 40,
   "metadata": {
    "collapsed": false,
    "deletable": true,
    "editable": true
   },
   "outputs": [
    {
     "name": "stdout",
     "output_type": "stream",
     "text": [
      "INSERT INTO sgcn.sgcn             (sourceid,sgcn_year,sgcn_state,scientificname_submitted,commonname_submitted,taxonomicgroup_submitted,firstyear)             VALUES ('https://www.sciencebase.gov/catalog/item/56d725c7e4b015c306f4580a',2015,'Pennsylvania','Cryptobranchus alleganiensis alleganiensis','Eastern Hellbender','Amphibians',False)\n"
     ]
    },
    {
     "data": {
      "text/plain": [
       "{'_execution_time': 0.066,\n",
       " 'affected_rows': 1,\n",
       " 'auth_check': {'auth_level': None, 'session': None, 'success': True},\n",
       " 'success': True}"
      ]
     },
     "metadata": {},
     "output_type": "display_data"
    },
    {
     "name": "stdout",
     "output_type": "stream",
     "text": [
      "INSERT INTO sgcn.sgcn             (sourceid,sgcn_year,sgcn_state,scientificname_submitted,commonname_submitted,taxonomicgroup_submitted,firstyear)             VALUES ('https://www.sciencebase.gov/catalog/item/56d725c7e4b015c306f4580a',2015,'Pennsylvania','Necturus maculosus','Mudpuppy','Amphibians',True)\n"
     ]
    },
    {
     "data": {
      "text/plain": [
       "{'_execution_time': 0.059,\n",
       " 'affected_rows': 1,\n",
       " 'auth_check': {'auth_level': None, 'session': None, 'success': True},\n",
       " 'success': True}"
      ]
     },
     "metadata": {},
     "output_type": "display_data"
    },
    {
     "name": "stdout",
     "output_type": "stream",
     "text": [
      "INSERT INTO sgcn.sgcn             (sourceid,sgcn_year,sgcn_state,scientificname_submitted,commonname_submitted,taxonomicgroup_submitted,firstyear)             VALUES ('https://www.sciencebase.gov/catalog/item/56d725c7e4b015c306f4580a',2015,'Pennsylvania','Ambystoma jeffersonianum','Jefferson Salamander','Amphibians',False)\n"
     ]
    },
    {
     "data": {
      "text/plain": [
       "{'_execution_time': 0.06,\n",
       " 'affected_rows': 1,\n",
       " 'auth_check': {'auth_level': None, 'session': None, 'success': True},\n",
       " 'success': True}"
      ]
     },
     "metadata": {},
     "output_type": "display_data"
    },
    {
     "name": "stdout",
     "output_type": "stream",
     "text": [
      "INSERT INTO sgcn.sgcn             (sourceid,sgcn_year,sgcn_state,scientificname_submitted,commonname_submitted,taxonomicgroup_submitted,firstyear)             VALUES ('https://www.sciencebase.gov/catalog/item/56d725c7e4b015c306f4580a',2015,'Pennsylvania','Ambystoma laterale','Blue-spotted Salamander','Amphibians',True)\n"
     ]
    },
    {
     "data": {
      "text/plain": [
       "{'_execution_time': 0.062,\n",
       " 'affected_rows': 1,\n",
       " 'auth_check': {'auth_level': None, 'session': None, 'success': True},\n",
       " 'success': True}"
      ]
     },
     "metadata": {},
     "output_type": "display_data"
    },
    {
     "name": "stdout",
     "output_type": "stream",
     "text": [
      "INSERT INTO sgcn.sgcn             (sourceid,sgcn_year,sgcn_state,scientificname_submitted,commonname_submitted,taxonomicgroup_submitted,firstyear)             VALUES ('https://www.sciencebase.gov/catalog/item/56d725c7e4b015c306f4580a',2015,'Pennsylvania','Ambystoma opacum','Marbled Salamander','Amphibians',False)\n"
     ]
    },
    {
     "data": {
      "text/plain": [
       "{'_execution_time': 0.065,\n",
       " 'affected_rows': 1,\n",
       " 'auth_check': {'auth_level': None, 'session': None, 'success': True},\n",
       " 'success': True}"
      ]
     },
     "metadata": {},
     "output_type": "display_data"
    },
    {
     "name": "stdout",
     "output_type": "stream",
     "text": [
      "Total Records Processed: 5\n"
     ]
    }
   ],
   "source": [
    "totalRecords = 0\n",
    "sgcn_year = 2015\n",
    "\n",
    "for item in sbR['items']:\n",
    "    sgcn_state = item['tags'][0]['name']\n",
    "    sourceid = \"https://www.sciencebase.gov/catalog/item/\"+item['id']\n",
    "    for file in item['files']:\n",
    "        if file['name'][-9:] == '_2015.txt':\n",
    "            stateList = requests.get(file['url']).content\n",
    "            try:\n",
    "                stateListPD = pd.read_csv(io.StringIO(stateList.decode('utf-8')))\n",
    "            except:\n",
    "                pass\n",
    "\n",
    "            try:\n",
    "                stateListPD = pd.read_csv(io.StringIO(stateList.decode('utf-8')), sep='\\t')\n",
    "            except:\n",
    "                pass\n",
    "\n",
    "            try:\n",
    "                stateListPD = pd.read_csv(io.StringIO(stateList.decode('iso-8859-1')), sep='\\t')\n",
    "            except:\n",
    "                pass\n",
    "\n",
    "    for ir in stateListPD.itertuples():\n",
    "        if type(ir[1]) is float:\n",
    "            scientificname_submitted = \"\"\n",
    "        else:\n",
    "            scientificname_submitted = ir[1].replace(\"'\",\"''\")\n",
    "        \n",
    "        if type(ir[2]) is float:\n",
    "            commonname_submitted = \"\"\n",
    "        else:\n",
    "            commonname_submitted = ir[2].replace(\"'\",\"''\")\n",
    "        \n",
    "        taxonomicgroup_submitted = ir[3]\n",
    "        \n",
    "        if ir[4] in [\"N\",\"n\",\"No\",\"no\"]:\n",
    "            firstyear = True\n",
    "        else:\n",
    "            firstyear = False\n",
    "        \n",
    "        q = \"INSERT INTO sgcn.sgcn \\\n",
    "            (sourceid,sgcn_year,sgcn_state,scientificname_submitted,commonname_submitted,taxonomicgroup_submitted,firstyear) \\\n",
    "            VALUES ('\"+sourceid+\"',\"+str(sgcn_year)+\",'\"+sgcn_state+\"','\"+scientificname_submitted+\"','\"+commonname_submitted+\"','\"+taxonomicgroup_submitted+\"',\"+str(firstyear)+\")\"\n",
    "        r = requests.get(getBaseURL()+\"&q=\"+q).json()\n",
    "        display (r)\n",
    "        totalRecords = totalRecords+1\n",
    "\n",
    "print (\"Total Records Processed: \"+str(totalRecords))            "
   ]
  },
  {
   "cell_type": "code",
   "execution_count": null,
   "metadata": {
    "collapsed": true,
    "deletable": true,
    "editable": true
   },
   "outputs": [],
   "source": []
  }
 ],
 "metadata": {
  "kernelspec": {
   "display_name": "Python 3",
   "language": "python",
   "name": "python3"
  },
  "language_info": {
   "codemirror_mode": {
    "name": "ipython",
    "version": 3
   },
   "file_extension": ".py",
   "mimetype": "text/x-python",
   "name": "python",
   "nbconvert_exporter": "python",
   "pygments_lexer": "ipython3",
   "version": "3.5.3"
  }
 },
 "nbformat": 4,
 "nbformat_minor": 0
}
