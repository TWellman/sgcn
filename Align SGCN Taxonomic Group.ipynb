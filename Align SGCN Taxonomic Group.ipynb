{
 "cells": [
  {
   "cell_type": "markdown",
   "metadata": {
    "deletable": true,
    "editable": true
   },
   "source": [
    "This notebook evaluates and populates a new SGCN-specific set of information in the TIR with a logical taxonomic group value to use in the SGCN National List and elsewhere. It uses a table of logical mappings from the SGCN schema (sgcn.adjustments) from submitted taxonomic groups to those that we want to use for consistency and clarity in the National List. We will update this process in future to build the mapping based on taxonomy from the taxonomic authorities (e.g., \"aves\" to \"birds\"), but the data structures in the TIR and SGCN will remain consistent."
   ]
  },
  {
   "cell_type": "code",
   "execution_count": 1,
   "metadata": {
    "collapsed": true,
    "deletable": true,
    "editable": true
   },
   "outputs": [],
   "source": [
    "import requests\n",
    "import pandas as pd\n",
    "from bis2 import gc2"
   ]
  },
  {
   "cell_type": "code",
   "execution_count": 2,
   "metadata": {
    "collapsed": false,
    "deletable": true,
    "editable": true
   },
   "outputs": [
    {
     "name": "stdout",
     "output_type": "stream",
     "text": [
      "Amphibian Amphibians\n",
      "Arthropod Other Invertebrates\n",
      "Bird Birds\n",
      "Bivalves Mollusks\n",
      "Bryophytes Plants\n",
      "Cnidarians Other Invertebrates\n",
      "Flatworm Other Invertebrates\n",
      "Freshwater Mussel Mollusks\n",
      "Gastropods Mollusks\n",
      "Insect Insects\n",
      "Invertebrate Other Invertebrates\n",
      "Invertebrates Other Invertebrates\n",
      "Mammal Mammals\n",
      "Mite Arachnids\n",
      "Mussel Mollusks\n",
      "Myriapods Other Invertebrates\n",
      "Plant Plants\n",
      "Poriferans Other Invertebrates\n",
      "Reptile Reptiles\n",
      "Snail Mollusks\n",
      "Spider Arachnids\n",
      "Vascular Plants Plants\n",
      "Worms Other Invertebrates\n",
      "Fishes Fish\n",
      "Echinoderms Other Invertebrates\n",
      "chinoderms Other Invertebrates\n",
      "Cephalopods Other Invertebrates\n",
      "ephalopods Other Invertebrates\n"
     ]
    }
   ],
   "source": [
    "# Retrieve the logical mappings from the config file\n",
    "sb_sgcnCollectionItem = requests.get(\"https://www.sciencebase.gov/catalog/item/56d720ece4b015c306f442d5?format=json&fields=files\").json()\n",
    "\n",
    "for file in sb_sgcnCollectionItem[\"files\"]:\n",
    "    if file[\"title\"] == \"Configuration:Taxonomic Group Mappings\":\n",
    "        tgMappings = pd.read_table(file[\"url\"], sep=\",\", encoding=\"utf-8\")\n",
    "\n",
    "for index, row in tgMappings.iterrows():\n",
    "    providedName = str(row[\"ProvidedName\"])\n",
    "    preferredName = str(row[\"PreferredName\"])\n",
    "    preferredNamePair = '\"taxonomicgroup\"=>\"'+preferredName+'\"'\n",
    "    print (providedName, preferredName)\n",
    "    q_updateGroups = \"UPDATE tir.tir SET sgcn = '\"+preferredNamePair+\"' WHERE registration->'taxonomicgroups' LIKE '%\"+providedName+\"%' OR registration->'taxonomicgroups' LIKE '%\"+preferredName+\"%'\"\n",
    "    r = requests.get(gc2.sqlAPI(\"DataDistillery\",\"BCB\")+\"&q=\"+q_updateGroups).json()\n",
    "    \n",
    "    # Deal with really stupid problem with \"Ec\" and \"Ce\" are throwing a fit with PostgreSQL\n",
    "    # Strip first character from the provided name and try the query again\n",
    "    while \"message\" in r.keys():\n",
    "        providedName = providedName[1:]\n",
    "        print (providedName, preferredName)\n",
    "        q_updateGroups = \"UPDATE tir.tir SET sgcn = '\"+preferredNamePair+\"' WHERE registration->'taxonomicgroups' LIKE '%\"+providedName+\"%' OR registration->'taxonomicgroups' LIKE '%\"+preferredName+\"%'\"\n",
    "        r =  requests.get(gc2.sqlAPI(\"DataDistillery\",\"BCB\")+\"&q=\"+q_updateGroups).json()\n",
    "        \n",
    "    "
   ]
  },
  {
   "cell_type": "markdown",
   "metadata": {},
   "source": [
    "This last process updates any remaining taxonomic group values to \"other\" to catch any corner cases. We'll eventually come back and add a few more mappings to deal with these."
   ]
  },
  {
   "cell_type": "code",
   "execution_count": 3,
   "metadata": {
    "collapsed": false,
    "deletable": true,
    "editable": true
   },
   "outputs": [
    {
     "name": "stdout",
     "output_type": "stream",
     "text": [
      "{'success': True, '_execution_time': 0.064, 'affected_rows': 0, 'auth_check': {'success': True, 'session': None, 'auth_level': None}}\n"
     ]
    }
   ],
   "source": [
    "otherGroupPair = '\"taxonomicgroup\"=>\"other\"'\n",
    "q_updateOther = \"UPDATE tir.tir SET sgcn = '\"+otherGroupPair+\"' WHERE sgcn IS NULL\"\n",
    "r = requests.get(gc2.sqlAPI(\"DataDistillery\",\"BCB\")+\"&q=\"+q_updateOther).json()\n",
    "print (r)"
   ]
  },
  {
   "cell_type": "code",
   "execution_count": null,
   "metadata": {
    "collapsed": true
   },
   "outputs": [],
   "source": []
  }
 ],
 "metadata": {
  "kernelspec": {
   "display_name": "Python 3",
   "language": "python",
   "name": "python3"
  },
  "language_info": {
   "codemirror_mode": {
    "name": "ipython",
    "version": 3
   },
   "file_extension": ".py",
   "mimetype": "text/x-python",
   "name": "python",
   "nbconvert_exporter": "python",
   "pygments_lexer": "ipython3",
   "version": "3.5.3"
  }
 },
 "nbformat": 4,
 "nbformat_minor": 0
}
