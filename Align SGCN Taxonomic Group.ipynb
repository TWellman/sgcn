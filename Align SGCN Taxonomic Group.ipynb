{
 "cells": [
  {
   "cell_type": "markdown",
   "metadata": {},
   "source": [
    "This notebook evaluates and populates a new SGCN-specific set of information in the TIR with a logical taxonomic group value to use in the SGCN National List and elsewhere. It uses a table of logical mappings from the SGCN schema (sgcn.adjustments) from submitted taxonomic groups to those that we want to use for consistency and clarity in the National List. We will update this process in future to build the mapping based on taxonomy from the taxonomic authorities (e.g., \"aves\" to \"birds\"), but the data structures in the TIR and SGCN will remain consistent."
   ]
  },
  {
   "cell_type": "code",
   "execution_count": 16,
   "metadata": {
    "collapsed": true
   },
   "outputs": [],
   "source": [
    "import requests,configparser\n",
    "from IPython.display import display\n"
   ]
  },
  {
   "cell_type": "code",
   "execution_count": 17,
   "metadata": {
    "collapsed": true
   },
   "outputs": [],
   "source": [
    "# Get API keys and any other config details from a file that is external to the code.\n",
    "config = configparser.RawConfigParser()\n",
    "config.read_file(open(r'../config/stuff.py'))"
   ]
  },
  {
   "cell_type": "code",
   "execution_count": 18,
   "metadata": {
    "collapsed": true
   },
   "outputs": [],
   "source": [
    "# Build base URL with API key using input from the external config.\n",
    "def getBaseURL():\n",
    "    gc2APIKey = config.get('apiKeys','apiKey_GC2_BCB').replace('\"','')\n",
    "    apiBaseURL = \"https://gc2.mapcentia.com/api/v1/sql/bcb?key=\"+gc2APIKey\n",
    "    return apiBaseURL"
   ]
  },
  {
   "cell_type": "code",
   "execution_count": 29,
   "metadata": {
    "collapsed": false
   },
   "outputs": [
    {
     "data": {
      "text/plain": [
       "{'Amphibian': 'Amphibians',\n",
       " 'Arthropod': 'Other Invertebrates',\n",
       " 'Bird': 'Birds',\n",
       " 'Bivalves': 'Mollusks',\n",
       " 'Bryophytes': 'Plants',\n",
       " 'Cephalopods': 'Mollusks',\n",
       " 'Cnidarians': 'Other Invertebrates',\n",
       " 'Echinoderms': 'Other Invertebrates',\n",
       " 'Flatworm': 'Other Invertebrates',\n",
       " 'Freshwater Mussel': 'Mollusks',\n",
       " 'Gastropods': 'Mollusks',\n",
       " 'Insect': 'Insects',\n",
       " 'Invertebrate': 'Other Invertebrates',\n",
       " 'Invertebrates': 'Other Invertebrates',\n",
       " 'Mammal': 'Mammals',\n",
       " 'Mite': 'Arachnids',\n",
       " 'Mussel': 'Mollusks',\n",
       " 'Myriapods': 'Other Invertebrates',\n",
       " 'Plant': 'Plants',\n",
       " 'Poriferans': 'Other Invertebrates',\n",
       " 'Reptile': 'Reptiles',\n",
       " 'Snail': 'Mollusks',\n",
       " 'Spider': 'Arachnids',\n",
       " 'Vascular Plants': 'Plants',\n",
       " 'Worms': 'Other Invertebrates'}"
      ]
     },
     "metadata": {},
     "output_type": "display_data"
    }
   ],
   "source": [
    "# Retrieve the logical mappings from the sgcn.adjustments table and set them up as a dictionary for ease of use\n",
    "\n",
    "tgMappings = requests.get(getBaseURL()+\"&q=SELECT taxonomicgroup FROM sgcn.adjustments\").json()\n",
    "tgMapper = {}\n",
    "\n",
    "for feature in tgMappings[\"features\"]:\n",
    "    key = feature[\"properties\"][\"taxonomicgroup\"].split(\"=>\")[0].replace('\"','')\n",
    "    value = feature[\"properties\"][\"taxonomicgroup\"].split(\"=>\")[1].replace('\"','')\n",
    "    tgMapper[key] = value\n",
    "\n",
    "display (tgMapper)"
   ]
  },
  {
   "cell_type": "code",
   "execution_count": 42,
   "metadata": {
    "collapsed": false
   },
   "outputs": [
    {
     "name": "stdout",
     "output_type": "stream",
     "text": [
      "UPDATE tir.tir2 SET sgcn = '\"taxonomicgroup\"=>\"Other Invertebrates\"' WHERE registration->'taxonomicgroup_submitted' = 'Other Invertebrates'\n",
      "{'affected_rows': 560, '_execution_time': 0.123, 'auth_check': {'session': None, 'success': True, 'checked_relations': ['tir.tir2'], 'auth_level': 'Write'}, 'success': True}\n",
      "----\n",
      "UPDATE tir.tir2 SET sgcn = '\"taxonomicgroup\"=>\"Other Invertebrates\"' WHERE registration->'taxonomicgroup_submitted' = 'Arthropod'\n",
      "{'affected_rows': 0, '_execution_time': 0.092, 'auth_check': {'session': None, 'success': True, 'checked_relations': ['tir.tir2'], 'auth_level': 'Write'}, 'success': True}\n",
      "----\n",
      "UPDATE tir.tir2 SET sgcn = '\"taxonomicgroup\"=>\"Plants\"' WHERE registration->'taxonomicgroup_submitted' = 'Plants'\n",
      "{'affected_rows': 2603, '_execution_time': 0.281, 'auth_check': {'session': None, 'success': True, 'checked_relations': ['tir.tir2'], 'auth_level': 'Write'}, 'success': True}\n",
      "----\n",
      "UPDATE tir.tir2 SET sgcn = '\"taxonomicgroup\"=>\"Birds\"' WHERE registration->'taxonomicgroup_submitted' = 'Bird'\n",
      "{'affected_rows': 87, '_execution_time': 0.102, 'auth_check': {'session': None, 'success': True, 'checked_relations': ['tir.tir2'], 'auth_level': 'Write'}, 'success': True}\n",
      "----\n",
      "UPDATE tir.tir2 SET sgcn = '\"taxonomicgroup\"=>\"Insects\"' WHERE registration->'taxonomicgroup_submitted' = 'Insect'\n",
      "{'affected_rows': 24, '_execution_time': 0.096, 'auth_check': {'session': None, 'success': True, 'checked_relations': ['tir.tir2'], 'auth_level': 'Write'}, 'success': True}\n",
      "----\n",
      "UPDATE tir.tir2 SET sgcn = '\"taxonomicgroup\"=>\"Fungi\"' WHERE registration->'taxonomicgroup_submitted' = 'Fungi'\n",
      "{'affected_rows': 25, '_execution_time': 0.098, 'auth_check': {'session': None, 'success': True, 'checked_relations': ['tir.tir2'], 'auth_level': 'Write'}, 'success': True}\n",
      "----\n",
      "UPDATE tir.tir2 SET sgcn = '\"taxonomicgroup\"=>\"Algae\"' WHERE registration->'taxonomicgroup_submitted' = 'Algae'\n",
      "{'affected_rows': 107, '_execution_time': 0.099, 'auth_check': {'session': None, 'success': True, 'checked_relations': ['tir.tir2'], 'auth_level': 'Write'}, 'success': True}\n",
      "----\n",
      "UPDATE tir.tir2 SET sgcn = '\"taxonomicgroup\"=>\"Birds\"' WHERE registration->'taxonomicgroup_submitted' = 'Birds'\n",
      "{'affected_rows': 1065, '_execution_time': 0.158, 'auth_check': {'session': None, 'success': True, 'checked_relations': ['tir.tir2'], 'auth_level': 'Write'}, 'success': True}\n",
      "----\n",
      "UPDATE tir.tir2 SET sgcn = '\"taxonomicgroup\"=>\"Mollusks\"' WHERE registration->'taxonomicgroup_submitted' = 'Freshwater Mussel'\n",
      "{'affected_rows': 0, '_execution_time': 0.096, 'auth_check': {'session': None, 'success': True, 'checked_relations': ['tir.tir2'], 'auth_level': 'Write'}, 'success': True}\n",
      "----\n",
      "UPDATE tir.tir2 SET sgcn = '\"taxonomicgroup\"=>\"Arachnids\"' WHERE registration->'taxonomicgroup_submitted' = 'Arachnids'\n",
      "{'affected_rows': 142, '_execution_time': 0.102, 'auth_check': {'session': None, 'success': True, 'checked_relations': ['tir.tir2'], 'auth_level': 'Write'}, 'success': True}\n",
      "----\n",
      "UPDATE tir.tir2 SET sgcn = '\"taxonomicgroup\"=>\"Mollusks\"' WHERE registration->'taxonomicgroup_submitted' = 'Snail'\n",
      "{'affected_rows': 5, '_execution_time': 0.094, 'auth_check': {'session': None, 'success': True, 'checked_relations': ['tir.tir2'], 'auth_level': 'Write'}, 'success': True}\n",
      "----\n",
      "UPDATE tir.tir2 SET sgcn = '\"taxonomicgroup\"=>\"Arachnids\"' WHERE registration->'taxonomicgroup_submitted' = 'Spider'\n",
      "{'affected_rows': 1, '_execution_time': 0.092, 'auth_check': {'session': None, 'success': True, 'checked_relations': ['tir.tir2'], 'auth_level': 'Write'}, 'success': True}\n",
      "----\n",
      "UPDATE tir.tir2 SET sgcn = '\"taxonomicgroup\"=>\"Bicolor Sand Shrimp\"' WHERE registration->'taxonomicgroup_submitted' = 'Bicolor Sand Shrimp'\n",
      "{'affected_rows': 1, '_execution_time': 0.093, 'auth_check': {'session': None, 'success': True, 'checked_relations': ['tir.tir2'], 'auth_level': 'Write'}, 'success': True}\n",
      "----\n",
      "UPDATE tir.tir2 SET sgcn = '\"taxonomicgroup\"=>\"Mollusks\"' WHERE registration->'taxonomicgroup_submitted' = 'Bivalves'\n",
      "{'affected_rows': 126, '_execution_time': 0.103, 'auth_check': {'session': None, 'success': True, 'checked_relations': ['tir.tir2'], 'auth_level': 'Write'}, 'success': True}\n",
      "----\n",
      "UPDATE tir.tir2 SET sgcn = '\"taxonomicgroup\"=>\"Mollusks\"' WHERE registration->'taxonomicgroup_submitted' = 'Mussel'\n",
      "{'affected_rows': 17, '_execution_time': 0.097, 'auth_check': {'session': None, 'success': True, 'checked_relations': ['tir.tir2'], 'auth_level': 'Write'}, 'success': True}\n",
      "----\n",
      "UPDATE tir.tir2 SET sgcn = '\"taxonomicgroup\"=>\"Other Invertebrates\"' WHERE registration->'taxonomicgroup_submitted' = 'Cnidarians'\n",
      "{'affected_rows': 60, '_execution_time': 0.096, 'auth_check': {'session': None, 'success': True, 'checked_relations': ['tir.tir2'], 'auth_level': 'Write'}, 'success': True}\n",
      "----\n",
      "UPDATE tir.tir2 SET sgcn = '\"taxonomicgroup\"=>\"Amphibians\"' WHERE registration->'taxonomicgroup_submitted' = 'Amphibian'\n",
      "{'affected_rows': 24, '_execution_time': 0.094, 'auth_check': {'session': None, 'success': True, 'checked_relations': ['tir.tir2'], 'auth_level': 'Write'}, 'success': True}\n",
      "----\n",
      "UPDATE tir.tir2 SET sgcn = '\"taxonomicgroup\"=>\"Mollusks\"' WHERE registration->'taxonomicgroup_submitted' = 'Mollusks'\n",
      "{'affected_rows': 785, '_execution_time': 0.136, 'auth_check': {'session': None, 'success': True, 'checked_relations': ['tir.tir2'], 'auth_level': 'Write'}, 'success': True}\n",
      "----\n",
      "UPDATE tir.tir2 SET sgcn = '\"taxonomicgroup\"=>\"Mollusks\"' WHERE registration->'taxonomicgroup_submitted' = 'Gastropods'\n",
      "{'affected_rows': 382, '_execution_time': 0.132, 'auth_check': {'session': None, 'success': True, 'checked_relations': ['tir.tir2'], 'auth_level': 'Write'}, 'success': True}\n",
      "----\n",
      "UPDATE tir.tir2 SET sgcn = '\"taxonomicgroup\"=>\"Crustaceans\"' WHERE registration->'taxonomicgroup_submitted' = 'Crustaceans'\n",
      "{'affected_rows': 577, '_execution_time': 0.12, 'auth_check': {'session': None, 'success': True, 'checked_relations': ['tir.tir2'], 'auth_level': 'Write'}, 'success': True}\n",
      "----\n",
      "UPDATE tir.tir2 SET sgcn = '\"taxonomicgroup\"=>\"Mammals\"' WHERE registration->'taxonomicgroup_submitted' = 'Mammals'\n",
      "{'affected_rows': 685, '_execution_time': 0.124, 'auth_check': {'session': None, 'success': True, 'checked_relations': ['tir.tir2'], 'auth_level': 'Write'}, 'success': True}\n",
      "----\n",
      "UPDATE tir.tir2 SET sgcn = '\"taxonomicgroup\"=>\"Plants\"' WHERE registration->'taxonomicgroup_submitted' = 'Vascular Plants'\n",
      "{'affected_rows': 528, '_execution_time': 0.123, 'auth_check': {'session': None, 'success': True, 'checked_relations': ['tir.tir2'], 'auth_level': 'Write'}, 'success': True}\n",
      "----\n",
      "UPDATE tir.tir2 SET sgcn = '\"taxonomicgroup\"=>\"Insects\"' WHERE registration->'taxonomicgroup_submitted' = 'Insects'\n",
      "{'affected_rows': 3078, '_execution_time': 0.315, 'auth_check': {'session': None, 'success': True, 'checked_relations': ['tir.tir2'], 'auth_level': 'Write'}, 'success': True}\n",
      "----\n",
      "UPDATE tir.tir2 SET sgcn = '\"taxonomicgroup\"=>\"Mollusks\"' WHERE registration->'taxonomicgroup_submitted' = 'Cephalopods'\n",
      "{'affected_rows': 2, '_execution_time': 0.086, 'auth_check': {'session': None, 'success': True, 'checked_relations': ['tir.tir2'], 'auth_level': 'Write'}, 'success': True}\n",
      "----\n",
      "UPDATE tir.tir2 SET sgcn = '\"taxonomicgroup\"=>\"Other Invertebrates\"' WHERE registration->'taxonomicgroup_submitted' = 'Myriapods'\n",
      "{'affected_rows': 68, '_execution_time': 0.1, 'auth_check': {'session': None, 'success': True, 'checked_relations': ['tir.tir2'], 'auth_level': 'Write'}, 'success': True}\n",
      "----\n",
      "UPDATE tir.tir2 SET sgcn = '\"taxonomicgroup\"=>\"Other Invertebrates\"' WHERE registration->'taxonomicgroup_submitted' = 'Invertebrate'\n",
      "{'affected_rows': 156, '_execution_time': 0.087, 'auth_check': {'session': None, 'success': True, 'checked_relations': ['tir.tir2'], 'auth_level': 'Write'}, 'success': True}\n",
      "----\n",
      "UPDATE tir.tir2 SET sgcn = '\"taxonomicgroup\"=>\"Reptiles\"' WHERE registration->'taxonomicgroup_submitted' = 'Reptiles'\n",
      "{'affected_rows': 553, '_execution_time': 0.103, 'auth_check': {'session': None, 'success': True, 'checked_relations': ['tir.tir2'], 'auth_level': 'Write'}, 'success': True}\n",
      "----\n",
      "UPDATE tir.tir2 SET sgcn = '\"taxonomicgroup\"=>\"Plants\"' WHERE registration->'taxonomicgroup_submitted' = 'Plant'\n",
      "{'affected_rows': 308, '_execution_time': 0.105, 'auth_check': {'session': None, 'success': True, 'checked_relations': ['tir.tir2'], 'auth_level': 'Write'}, 'success': True}\n",
      "----\n",
      "UPDATE tir.tir2 SET sgcn = '\"taxonomicgroup\"=>\"Plants\"' WHERE registration->'taxonomicgroup_submitted' = 'Bryophytes'\n",
      "{'affected_rows': 115, '_execution_time': 0.097, 'auth_check': {'session': None, 'success': True, 'checked_relations': ['tir.tir2'], 'auth_level': 'Write'}, 'success': True}\n",
      "----\n",
      "UPDATE tir.tir2 SET sgcn = '\"taxonomicgroup\"=>\"Other Invertebrates\"' WHERE registration->'taxonomicgroup_submitted' = 'Worms'\n",
      "{'affected_rows': 26, '_execution_time': 0.094, 'auth_check': {'session': None, 'success': True, 'checked_relations': ['tir.tir2'], 'auth_level': 'Write'}, 'success': True}\n",
      "----\n",
      "UPDATE tir.tir2 SET sgcn = '\"taxonomicgroup\"=>\"Other Invertebrates\"' WHERE registration->'taxonomicgroup_submitted' = 'Invertebrates'\n",
      "{'affected_rows': 1, '_execution_time': 0.094, 'auth_check': {'session': None, 'success': True, 'checked_relations': ['tir.tir2'], 'auth_level': 'Write'}, 'success': True}\n",
      "----\n",
      "UPDATE tir.tir2 SET sgcn = '\"taxonomicgroup\"=>\"Other Invertebrates\"' WHERE registration->'taxonomicgroup_submitted' = 'Echinoderms'\n",
      "{'affected_rows': 23, '_execution_time': 0.096, 'auth_check': {'session': None, 'success': True, 'checked_relations': ['tir.tir2'], 'auth_level': 'Write'}, 'success': True}\n",
      "----\n",
      "UPDATE tir.tir2 SET sgcn = '\"taxonomicgroup\"=>\"Arachnids\"' WHERE registration->'taxonomicgroup_submitted' = 'Mite'\n",
      "{'affected_rows': 3, '_execution_time': 0.091, 'auth_check': {'session': None, 'success': True, 'checked_relations': ['tir.tir2'], 'auth_level': 'Write'}, 'success': True}\n",
      "----\n",
      "UPDATE tir.tir2 SET sgcn = '\"taxonomicgroup\"=>\"Other Invertebrates\"' WHERE registration->'taxonomicgroup_submitted' = 'Flatworm'\n",
      "{'affected_rows': 9, '_execution_time': 0.092, 'auth_check': {'session': None, 'success': True, 'checked_relations': ['tir.tir2'], 'auth_level': 'Write'}, 'success': True}\n",
      "----\n",
      "UPDATE tir.tir2 SET sgcn = '\"taxonomicgroup\"=>\"Reptiles\"' WHERE registration->'taxonomicgroup_submitted' = 'Reptile'\n",
      "{'affected_rows': 63, '_execution_time': 0.095, 'auth_check': {'session': None, 'success': True, 'checked_relations': ['tir.tir2'], 'auth_level': 'Write'}, 'success': True}\n",
      "----\n",
      "UPDATE tir.tir2 SET sgcn = '\"taxonomicgroup\"=>\"Mammals\"' WHERE registration->'taxonomicgroup_submitted' = 'Mammal'\n",
      "{'affected_rows': 50, '_execution_time': 0.094, 'auth_check': {'session': None, 'success': True, 'checked_relations': ['tir.tir2'], 'auth_level': 'Write'}, 'success': True}\n",
      "----\n",
      "UPDATE tir.tir2 SET sgcn = '\"taxonomicgroup\"=>\"Amphibians\"' WHERE registration->'taxonomicgroup_submitted' = 'Amphibians'\n",
      "{'affected_rows': 351, '_execution_time': 0.11, 'auth_check': {'session': None, 'success': True, 'checked_relations': ['tir.tir2'], 'auth_level': 'Write'}, 'success': True}\n",
      "----\n",
      "UPDATE tir.tir2 SET sgcn = '\"taxonomicgroup\"=>\"Other Invertebrates\"' WHERE registration->'taxonomicgroup_submitted' = 'Poriferans'\n",
      "{'affected_rows': 6, '_execution_time': 0.095, 'auth_check': {'session': None, 'success': True, 'checked_relations': ['tir.tir2'], 'auth_level': 'Write'}, 'success': True}\n",
      "----\n",
      "UPDATE tir.tir2 SET sgcn = '\"taxonomicgroup\"=>\"Fish\"' WHERE registration->'taxonomicgroup_submitted' = 'Fish'\n",
      "{'affected_rows': 1600, '_execution_time': 0.18, 'auth_check': {'session': None, 'success': True, 'checked_relations': ['tir.tir2'], 'auth_level': 'Write'}, 'success': True}\n",
      "----\n"
     ]
    }
   ],
   "source": [
    "# Retrieve the submitted taxonomic groups from the registration information for SGCN taxa\n",
    "#r = requests.get(getBaseURL()+\"&q=SELECT DISTINCT registration->'taxonomicgroup_submitted' AS taxonomicgroup_submitted FROM tir.tir2 WHERE exist(registration, 'taxonomicgroup_submitted')\").json()\n",
    "r = requests.get(getBaseURL()+\"&q=SELECT DISTINCT taxonomicgroup_submitted FROM sgcn.sgcn WHERE taxonomicgroup_submitted <> ''\").json()\n",
    "\n",
    "for feature in r[\"features\"]:\n",
    "    submittedTG = feature[\"properties\"][\"taxonomicgroup_submitted\"]\n",
    "    \n",
    "    # If possible, map the submitted taxonomic group to one of our adjusted taxonomic groups\n",
    "    try:\n",
    "        acceptedTG = tgMapper[submittedTG]\n",
    "    except:\n",
    "        acceptedTG = submittedTG\n",
    "\n",
    "    # Update the TIR with accepted taxonomic groups for all records based on the mapping to submitted taxonomic groups\n",
    "    sgcnPairs = '\"taxonomicgroup\"=>\"'+acceptedTG+'\"'\n",
    "    q = \"UPDATE tir.tir2 SET sgcn = '\"+sgcnPairs+\"' WHERE registration->'taxonomicgroup_submitted' = '\"+submittedTG+\"'\"\n",
    "    print (q)\n",
    "    print (requests.get(getBaseURL()+\"&q=\"+q).json())\n",
    "    print (\"----\")\n",
    "    \n",
    "    "
   ]
  },
  {
   "cell_type": "code",
   "execution_count": null,
   "metadata": {
    "collapsed": true
   },
   "outputs": [],
   "source": []
  }
 ],
 "metadata": {
  "kernelspec": {
   "display_name": "Python 3",
   "language": "python",
   "name": "python3"
  },
  "language_info": {
   "codemirror_mode": {
    "name": "ipython",
    "version": 3
   },
   "file_extension": ".py",
   "mimetype": "text/x-python",
   "name": "python",
   "nbconvert_exporter": "python",
   "pygments_lexer": "ipython3",
   "version": "3.5.3"
  }
 },
 "nbformat": 4,
 "nbformat_minor": 0
}
