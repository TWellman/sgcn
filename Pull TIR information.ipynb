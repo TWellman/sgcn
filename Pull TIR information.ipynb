{
 "cells": [
  {
   "cell_type": "code",
   "execution_count": 5,
   "metadata": {
    "collapsed": true
   },
   "outputs": [],
   "source": [
    "import requests,configparser\n",
    "from IPython.display import display"
   ]
  },
  {
   "cell_type": "code",
   "execution_count": 2,
   "metadata": {
    "collapsed": true
   },
   "outputs": [],
   "source": [
    "# Get API keys and any other config details from a file that is external to the code.\n",
    "config = configparser.RawConfigParser()\n",
    "config.read_file(open(r'../config/stuff.py'))"
   ]
  },
  {
   "cell_type": "code",
   "execution_count": 3,
   "metadata": {
    "collapsed": true
   },
   "outputs": [],
   "source": [
    "# Build base URL with API key using input from the external config.\n",
    "def getBaseURL():\n",
    "    gc2APIKey = config.get('apiKeys','apiKey_GC2_BCB').replace('\"','')\n",
    "    apiBaseURL = \"https://gc2.mapcentia.com/api/v1/sql/bcb?key=\"+gc2APIKey\n",
    "    return apiBaseURL"
   ]
  },
  {
   "cell_type": "code",
   "execution_count": 32,
   "metadata": {
    "collapsed": true
   },
   "outputs": [],
   "source": [
    "sgcnTIR = requests.get(getBaseURL()+\"&q=SELECT itis->'discoveredTSN' AS discoveredtsn, itis->'acceptedTSN' AS acceptedtsn, itis->'nameWOInd' AS scientificname_accepted, itis->'rank' AS rank, itis->'vernacular:English' AS commonname_accepted, registration->'SGCN_ScientificName_Submitted' AS scientificname_submitted FROM tir.tir2 WHERE itis->'itisMatchMethod' NOT LIKE 'NotMatched%' ORDER BY registration->'SGCN_ScientificName_Submitted' LIMIT 100\").json()\n",
    "\n"
   ]
  },
  {
   "cell_type": "code",
   "execution_count": 48,
   "metadata": {
    "collapsed": false
   },
   "outputs": [
    {
     "name": "stdout",
     "output_type": "stream",
     "text": [
      "{'_execution_time': 0.078, 'success': True, 'auth_check': {'success': True, 'session': None, 'auth_level': None}, 'affected_rows': 2}\n",
      "{'_execution_time': 0.068, 'success': True, 'auth_check': {'success': True, 'session': None, 'auth_level': None}, 'affected_rows': 1}\n",
      "{'_execution_time': 0.074, 'success': True, 'auth_check': {'success': True, 'session': None, 'auth_level': None}, 'affected_rows': 1}\n",
      "{'_execution_time': 0.07, 'success': True, 'auth_check': {'success': True, 'session': None, 'auth_level': None}, 'affected_rows': 2}\n",
      "{'_execution_time': 0.067, 'success': True, 'auth_check': {'success': True, 'session': None, 'auth_level': None}, 'affected_rows': 1}\n",
      "{'_execution_time': 0.07, 'success': True, 'auth_check': {'success': True, 'session': None, 'auth_level': None}, 'affected_rows': 1}\n",
      "{'_execution_time': 0.068, 'success': True, 'auth_check': {'success': True, 'session': None, 'auth_level': None}, 'affected_rows': 1}\n",
      "{'_execution_time': 0.078, 'success': True, 'auth_check': {'success': True, 'session': None, 'auth_level': None}, 'affected_rows': 1}\n",
      "{'_execution_time': 0.076, 'success': True, 'auth_check': {'success': True, 'session': None, 'auth_level': None}, 'affected_rows': 1}\n",
      "{'_execution_time': 0.071, 'success': True, 'auth_check': {'success': True, 'session': None, 'auth_level': None}, 'affected_rows': 1}\n",
      "{'_execution_time': 0.067, 'success': True, 'auth_check': {'success': True, 'session': None, 'auth_level': None}, 'affected_rows': 1}\n",
      "{'_execution_time': 0.07, 'success': True, 'auth_check': {'success': True, 'session': None, 'auth_level': None}, 'affected_rows': 1}\n",
      "{'_execution_time': 0.067, 'success': True, 'auth_check': {'success': True, 'session': None, 'auth_level': None}, 'affected_rows': 1}\n",
      "{'_execution_time': 0.073, 'success': True, 'auth_check': {'success': True, 'session': None, 'auth_level': None}, 'affected_rows': 2}\n",
      "{'_execution_time': 0.068, 'success': True, 'auth_check': {'success': True, 'session': None, 'auth_level': None}, 'affected_rows': 2}\n",
      "{'_execution_time': 0.067, 'success': True, 'auth_check': {'success': True, 'session': None, 'auth_level': None}, 'affected_rows': 2}\n",
      "{'_execution_time': 0.067, 'success': True, 'auth_check': {'success': True, 'session': None, 'auth_level': None}, 'affected_rows': 2}\n",
      "{'_execution_time': 0.067, 'success': True, 'auth_check': {'success': True, 'session': None, 'auth_level': None}, 'affected_rows': 2}\n",
      "{'_execution_time': 0.074, 'success': True, 'auth_check': {'success': True, 'session': None, 'auth_level': None}, 'affected_rows': 2}\n",
      "{'_execution_time': 0.079, 'success': True, 'auth_check': {'success': True, 'session': None, 'auth_level': None}, 'affected_rows': 1}\n",
      "{'_execution_time': 0.066, 'success': True, 'auth_check': {'success': True, 'session': None, 'auth_level': None}, 'affected_rows': 2}\n",
      "{'_execution_time': 0.068, 'success': True, 'auth_check': {'success': True, 'session': None, 'auth_level': None}, 'affected_rows': 1}\n",
      "{'_execution_time': 0.067, 'success': True, 'auth_check': {'success': True, 'session': None, 'auth_level': None}, 'affected_rows': 2}\n",
      "{'_execution_time': 0.068, 'success': True, 'auth_check': {'success': True, 'session': None, 'auth_level': None}, 'affected_rows': 2}\n",
      "{'_execution_time': 0.067, 'success': True, 'auth_check': {'success': True, 'session': None, 'auth_level': None}, 'affected_rows': 4}\n",
      "{'_execution_time': 0.078, 'success': True, 'auth_check': {'success': True, 'session': None, 'auth_level': None}, 'affected_rows': 8}\n",
      "{'_execution_time': 0.079, 'success': True, 'auth_check': {'success': True, 'session': None, 'auth_level': None}, 'affected_rows': 1}\n",
      "{'_execution_time': 0.07, 'success': True, 'auth_check': {'success': True, 'session': None, 'auth_level': None}, 'affected_rows': 1}\n",
      "{'_execution_time': 0.077, 'success': True, 'auth_check': {'success': True, 'session': None, 'auth_level': None}, 'affected_rows': 1}\n",
      "{'_execution_time': 0.072, 'success': True, 'auth_check': {'success': True, 'session': None, 'auth_level': None}, 'affected_rows': 1}\n",
      "{'_execution_time': 0.073, 'success': True, 'auth_check': {'success': True, 'session': None, 'auth_level': None}, 'affected_rows': 1}\n",
      "{'_execution_time': 0.067, 'success': True, 'auth_check': {'success': True, 'session': None, 'auth_level': None}, 'affected_rows': 1}\n",
      "{'_execution_time': 0.066, 'success': True, 'auth_check': {'success': True, 'session': None, 'auth_level': None}, 'affected_rows': 2}\n",
      "{'_execution_time': 0.088, 'success': True, 'auth_check': {'success': True, 'session': None, 'auth_level': None}, 'affected_rows': 2}\n",
      "{'_execution_time': 0.067, 'success': True, 'auth_check': {'success': True, 'session': None, 'auth_level': None}, 'affected_rows': 1}\n",
      "{'_execution_time': 0.078, 'success': True, 'auth_check': {'success': True, 'session': None, 'auth_level': None}, 'affected_rows': 1}\n",
      "{'_execution_time': 0.072, 'success': True, 'auth_check': {'success': True, 'session': None, 'auth_level': None}, 'affected_rows': 1}\n",
      "{'_execution_time': 0.072, 'success': True, 'auth_check': {'success': True, 'session': None, 'auth_level': None}, 'affected_rows': 1}\n",
      "{'_execution_time': 0.08, 'success': True, 'auth_check': {'success': True, 'session': None, 'auth_level': None}, 'affected_rows': 1}\n",
      "{'_execution_time': 0.067, 'success': True, 'auth_check': {'success': True, 'session': None, 'auth_level': None}, 'affected_rows': 1}\n",
      "{'_execution_time': 0.077, 'success': True, 'auth_check': {'success': True, 'session': None, 'auth_level': None}, 'affected_rows': 2}\n",
      "{'_execution_time': 0.072, 'success': True, 'auth_check': {'success': True, 'session': None, 'auth_level': None}, 'affected_rows': 1}\n",
      "{'_execution_time': 0.072, 'success': True, 'auth_check': {'success': True, 'session': None, 'auth_level': None}, 'affected_rows': 1}\n",
      "{'_execution_time': 0.072, 'success': True, 'auth_check': {'success': True, 'session': None, 'auth_level': None}, 'affected_rows': 1}\n",
      "{'_execution_time': 0.075, 'success': True, 'auth_check': {'success': True, 'session': None, 'auth_level': None}, 'affected_rows': 11}\n",
      "{'_execution_time': 0.075, 'success': True, 'auth_check': {'success': True, 'session': None, 'auth_level': None}, 'affected_rows': 1}\n",
      "{'_execution_time': 0.076, 'success': True, 'auth_check': {'success': True, 'session': None, 'auth_level': None}, 'affected_rows': 33}\n",
      "{'_execution_time': 0.078, 'success': True, 'auth_check': {'success': True, 'session': None, 'auth_level': None}, 'affected_rows': 1}\n",
      "{'_execution_time': 0.068, 'success': True, 'auth_check': {'success': True, 'session': None, 'auth_level': None}, 'affected_rows': 3}\n",
      "{'_execution_time': 0.067, 'success': True, 'auth_check': {'success': True, 'session': None, 'auth_level': None}, 'affected_rows': 1}\n",
      "{'_execution_time': 0.067, 'success': True, 'auth_check': {'success': True, 'session': None, 'auth_level': None}, 'affected_rows': 1}\n",
      "{'_execution_time': 0.067, 'success': True, 'auth_check': {'success': True, 'session': None, 'auth_level': None}, 'affected_rows': 1}\n",
      "{'_execution_time': 0.081, 'success': True, 'auth_check': {'success': True, 'session': None, 'auth_level': None}, 'affected_rows': 25}\n",
      "{'_execution_time': 0.069, 'success': True, 'auth_check': {'success': True, 'session': None, 'auth_level': None}, 'affected_rows': 1}\n",
      "{'_execution_time': 0.068, 'success': True, 'auth_check': {'success': True, 'session': None, 'auth_level': None}, 'affected_rows': 6}\n",
      "{'_execution_time': 0.078, 'success': True, 'auth_check': {'success': True, 'session': None, 'auth_level': None}, 'affected_rows': 1}\n",
      "{'_execution_time': 0.075, 'success': True, 'auth_check': {'success': True, 'session': None, 'auth_level': None}, 'affected_rows': 2}\n",
      "{'_execution_time': 0.07, 'success': True, 'auth_check': {'success': True, 'session': None, 'auth_level': None}, 'affected_rows': 2}\n",
      "{'_execution_time': 0.066, 'success': True, 'auth_check': {'success': True, 'session': None, 'auth_level': None}, 'affected_rows': 1}\n",
      "{'_execution_time': 0.067, 'success': True, 'auth_check': {'success': True, 'session': None, 'auth_level': None}, 'affected_rows': 1}\n",
      "{'_execution_time': 0.071, 'success': True, 'auth_check': {'success': True, 'session': None, 'auth_level': None}, 'affected_rows': 1}\n",
      "{'_execution_time': 0.074, 'success': True, 'auth_check': {'success': True, 'session': None, 'auth_level': None}, 'affected_rows': 1}\n",
      "{'_execution_time': 0.068, 'success': True, 'auth_check': {'success': True, 'session': None, 'auth_level': None}, 'affected_rows': 3}\n",
      "{'_execution_time': 0.069, 'success': True, 'auth_check': {'success': True, 'session': None, 'auth_level': None}, 'affected_rows': 2}\n",
      "{'_execution_time': 0.067, 'success': True, 'auth_check': {'success': True, 'session': None, 'auth_level': None}, 'affected_rows': 1}\n",
      "{'_execution_time': 0.069, 'success': True, 'auth_check': {'success': True, 'session': None, 'auth_level': None}, 'affected_rows': 1}\n",
      "{'_execution_time': 0.072, 'success': True, 'auth_check': {'success': True, 'session': None, 'auth_level': None}, 'affected_rows': 2}\n",
      "{'_execution_time': 0.078, 'success': True, 'auth_check': {'success': True, 'session': None, 'auth_level': None}, 'affected_rows': 2}\n",
      "{'_execution_time': 0.078, 'success': True, 'auth_check': {'success': True, 'session': None, 'auth_level': None}, 'affected_rows': 1}\n",
      "{'_execution_time': 0.068, 'success': True, 'auth_check': {'success': True, 'session': None, 'auth_level': None}, 'affected_rows': 23}\n",
      "{'_execution_time': 0.075, 'success': True, 'auth_check': {'success': True, 'session': None, 'auth_level': None}, 'affected_rows': 1}\n",
      "{'_execution_time': 0.069, 'success': True, 'auth_check': {'success': True, 'session': None, 'auth_level': None}, 'affected_rows': 30}\n",
      "{'_execution_time': 0.067, 'success': True, 'auth_check': {'success': True, 'session': None, 'auth_level': None}, 'affected_rows': 1}\n",
      "{'_execution_time': 0.077, 'success': True, 'auth_check': {'success': True, 'session': None, 'auth_level': None}, 'affected_rows': 7}\n",
      "{'_execution_time': 0.068, 'success': True, 'auth_check': {'success': True, 'session': None, 'auth_level': None}, 'affected_rows': 1}\n",
      "{'_execution_time': 0.079, 'success': True, 'auth_check': {'success': True, 'session': None, 'auth_level': None}, 'affected_rows': 8}\n",
      "{'_execution_time': 0.07, 'success': True, 'auth_check': {'success': True, 'session': None, 'auth_level': None}, 'affected_rows': 14}\n",
      "{'_execution_time': 0.072, 'success': True, 'auth_check': {'success': True, 'session': None, 'auth_level': None}, 'affected_rows': 5}\n",
      "{'_execution_time': 0.075, 'success': True, 'auth_check': {'success': True, 'session': None, 'auth_level': None}, 'affected_rows': 2}\n",
      "{'_execution_time': 0.073, 'success': True, 'auth_check': {'success': True, 'session': None, 'auth_level': None}, 'affected_rows': 7}\n",
      "{'_execution_time': 0.066, 'success': True, 'auth_check': {'success': True, 'session': None, 'auth_level': None}, 'affected_rows': 1}\n",
      "{'_execution_time': 0.067, 'success': True, 'auth_check': {'success': True, 'session': None, 'auth_level': None}, 'affected_rows': 1}\n",
      "{'_execution_time': 0.067, 'success': True, 'auth_check': {'success': True, 'session': None, 'auth_level': None}, 'affected_rows': 1}\n",
      "{'_execution_time': 0.068, 'success': True, 'auth_check': {'success': True, 'session': None, 'auth_level': None}, 'affected_rows': 1}\n",
      "{'_execution_time': 0.068, 'success': True, 'auth_check': {'success': True, 'session': None, 'auth_level': None}, 'affected_rows': 2}\n",
      "{'_execution_time': 0.07, 'success': True, 'auth_check': {'success': True, 'session': None, 'auth_level': None}, 'affected_rows': 2}\n",
      "{'_execution_time': 0.075, 'success': True, 'auth_check': {'success': True, 'session': None, 'auth_level': None}, 'affected_rows': 1}\n",
      "{'_execution_time': 0.069, 'success': True, 'auth_check': {'success': True, 'session': None, 'auth_level': None}, 'affected_rows': 4}\n",
      "{'_execution_time': 0.075, 'success': True, 'auth_check': {'success': True, 'session': None, 'auth_level': None}, 'affected_rows': 15}\n",
      "{'_execution_time': 0.069, 'success': True, 'auth_check': {'success': True, 'session': None, 'auth_level': None}, 'affected_rows': 4}\n",
      "{'_execution_time': 0.067, 'success': True, 'auth_check': {'success': True, 'session': None, 'auth_level': None}, 'affected_rows': 1}\n",
      "{'_execution_time': 0.068, 'success': True, 'auth_check': {'success': True, 'session': None, 'auth_level': None}, 'affected_rows': 1}\n",
      "{'_execution_time': 0.069, 'success': True, 'auth_check': {'success': True, 'session': None, 'auth_level': None}, 'affected_rows': 2}\n",
      "{'_execution_time': 0.068, 'success': True, 'auth_check': {'success': True, 'session': None, 'auth_level': None}, 'affected_rows': 2}\n",
      "{'_execution_time': 0.067, 'success': True, 'auth_check': {'success': True, 'session': None, 'auth_level': None}, 'affected_rows': 1}\n",
      "{'_execution_time': 0.078, 'success': True, 'auth_check': {'success': True, 'session': None, 'auth_level': None}, 'affected_rows': 1}\n",
      "{'_execution_time': 0.067, 'success': True, 'auth_check': {'success': True, 'session': None, 'auth_level': None}, 'affected_rows': 1}\n",
      "{'_execution_time': 0.069, 'success': True, 'auth_check': {'success': True, 'session': None, 'auth_level': None}, 'affected_rows': 3}\n",
      "{'_execution_time': 0.067, 'success': True, 'auth_check': {'success': True, 'session': None, 'auth_level': None}, 'affected_rows': 2}\n",
      "{'_execution_time': 0.068, 'success': True, 'auth_check': {'success': True, 'session': None, 'auth_level': None}, 'affected_rows': 1}\n"
     ]
    }
   ],
   "source": [
    "for feature in sgcnTIR[\"features\"]:\n",
    "    tsn = \"http://services.itis.gov/?q=tsn:\"+str(feature[\"properties\"][\"discoveredtsn\"])\n",
    "    if type(feature[\"properties\"][\"acceptedtsn\"]) is str and feature[\"properties\"][\"acceptedtsn\"] != feature[\"properties\"][\"discoveredtsn\"]:\n",
    "        tsn = \"http://services.itis.gov/?q=tsn:\"+str(feature[\"properties\"][\"acceptedtsn\"])\n",
    "\n",
    "    if type(feature[\"properties\"][\"commonname_accepted\"]) is str:\n",
    "        commonname = feature[\"properties\"][\"commonname_accepted\"].replace(\"'\",\"''\")\n",
    "    else:\n",
    "        commonname = \"\"\n",
    "    \n",
    "    scientificname_accepted = feature[\"properties\"][\"scientificname_accepted\"].replace(\"'\",\"''\")\n",
    "    scientificname_submitted = feature[\"properties\"][\"scientificname_submitted\"].replace(\"'\",\"''\")\n",
    "    \n",
    "    print (requests.get(getBaseURL()+\"&q=UPDATE sgcn.sgcn SET taxonomicauthorityid_accepted='\"+tsn+\"', scientificname_accepted='\"+scientificname_accepted+\"', commonname_accepted='\"+commonname+\"', taxonomicauthority_rank='\"+feature[\"properties\"][\"rank\"]+\"' WHERE scientificname_submitted='\"+scientificname_submitted+\"'\").json())\n",
    "    \n",
    "    "
   ]
  },
  {
   "cell_type": "code",
   "execution_count": null,
   "metadata": {
    "collapsed": true
   },
   "outputs": [],
   "source": []
  }
 ],
 "metadata": {
  "kernelspec": {
   "display_name": "Python 3",
   "language": "python",
   "name": "python3"
  },
  "language_info": {
   "codemirror_mode": {
    "name": "ipython",
    "version": 3
   },
   "file_extension": ".py",
   "mimetype": "text/x-python",
   "name": "python",
   "nbconvert_exporter": "python",
   "pygments_lexer": "ipython3",
   "version": "3.5.3"
  }
 },
 "nbformat": 4,
 "nbformat_minor": 0
}
