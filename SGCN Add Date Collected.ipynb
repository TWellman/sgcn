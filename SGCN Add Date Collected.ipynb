{
 "cells": [
  {
   "cell_type": "markdown",
   "metadata": {},
   "source": [
    "This simple script adds an explicit date to the existing items in the SGCN source data repository indicating when the SGCN list applied (either 2005 or 2015). Formerly, this information was only contained in the title, making coding against the repository somewhat ambiguous and brittle. The notebook uses the pysb module to make the update and requires authentication. It should not be run again as there is nothing in the code to ensure that the date collected is not already pleasant. It is considered throwaway code and just useful for transparency in the process."
   ]
  },
  {
   "cell_type": "code",
   "execution_count": null,
   "metadata": {
    "collapsed": true
   },
   "outputs": [],
   "source": [
    "# Get dependencies and set up an sb session\n",
    "import re\n",
    "import pysb\n",
    "import os\n",
    "sb = pysb.SbSession()\n",
    "username = input(\"Username: \")\n",
    "sb.loginc(str(username))"
   ]
  },
  {
   "cell_type": "code",
   "execution_count": null,
   "metadata": {
    "collapsed": true
   },
   "outputs": [],
   "source": [
    "# Get all items from the collection for SGCN\n",
    "r = requests.get(\"https://www.sciencebase.gov/catalog/items?parentId=56d720ece4b015c306f442d5&format=json&fields=title,dates&max=100\").json()\n",
    "\n",
    "# Loop through the items\n",
    "for item in r['items']:\n",
    "    keepDates = []\n",
    "    # Keep only the non-system dates (created and last updated have to go away or the update code fails)\n",
    "    for date in item[\"dates\"]:\n",
    "        if date[\"type\"] == \"dateCreated\" or date[\"type\"] == \"lastUpdated\":\n",
    "            pass\n",
    "        else:\n",
    "            keepDates.append(date.copy())\n",
    "    \n",
    "    # Set the new date collected date based on a regex that gets the year out of the title\n",
    "    # This is brittle as it assumes that there is only a single numeric substring in the title, which was the case when it was run\n",
    "    dateCollected = {}\n",
    "    dateCollected[\"dateString\"] = re.findall(r'\\d+', item['title'])[0]\n",
    "    dateCollected[\"label\"] = \"Date Collected\"\n",
    "    dateCollected[\"type\"] = \"Collected\"\n",
    "    keepDates.append(dateCollected.copy())\n",
    "\n",
    "    # Set up the item with its ID in a dict for submission to ScienceBase\n",
    "    itemUpdate = {}\n",
    "    itemUpdate[\"id\"] = item[\"id\"]\n",
    "    itemUpdate[\"dates\"] = keepDates\n",
    "    \n",
    "    # Print the item structure and send it to ScienceBase\n",
    "    print (itemUpdate)\n",
    "    sb.update_item(itemUpdate)\n"
   ]
  }
 ],
 "metadata": {
  "kernelspec": {
   "display_name": "Python 3",
   "language": "python",
   "name": "python3"
  },
  "language_info": {
   "codemirror_mode": {
    "name": "ipython",
    "version": 3
   },
   "file_extension": ".py",
   "mimetype": "text/x-python",
   "name": "python",
   "nbconvert_exporter": "python",
   "pygments_lexer": "ipython3",
   "version": "3.5.3"
  }
 },
 "nbformat": 4,
 "nbformat_minor": 0
}
