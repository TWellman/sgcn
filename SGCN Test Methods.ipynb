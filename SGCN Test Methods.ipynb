{
 "cells": [
  {
   "cell_type": "code",
   "execution_count": 1,
   "metadata": {
    "collapsed": true,
    "deletable": true,
    "editable": true
   },
   "outputs": [],
   "source": [
    "import requests,configparser\n",
    "from IPython.display import display"
   ]
  },
  {
   "cell_type": "code",
   "execution_count": 2,
   "metadata": {
    "collapsed": true,
    "deletable": true,
    "editable": true
   },
   "outputs": [],
   "source": [
    "# Get API keys and any other config details from a file that is external to the code.\n",
    "config = configparser.RawConfigParser()\n",
    "config.read_file(open(r'../config/stuff.py'))"
   ]
  },
  {
   "cell_type": "code",
   "execution_count": 3,
   "metadata": {
    "collapsed": true,
    "deletable": true,
    "editable": true
   },
   "outputs": [],
   "source": [
    "# Build base URL with API key using input from the external config.\n",
    "def getBaseURL():\n",
    "    gc2APIKey = config.get('apiKeys','apiKey_GC2_BCB').replace('\"','')\n",
    "    apiBaseURL = \"https://gc2.mapcentia.com/api/v1/sql/bcb?key=\"+gc2APIKey\n",
    "    return apiBaseURL"
   ]
  },
  {
   "cell_type": "code",
   "execution_count": 4,
   "metadata": {
    "collapsed": false,
    "deletable": true,
    "editable": true
   },
   "outputs": [
    {
     "data": {
      "text/plain": [
       "{'_execution_time': 0.081,\n",
       " 'auth_check': {'auth_level': None, 'session': None, 'success': True},\n",
       " 'features': [{'properties': {'tessinfo': {'cacheDate': '2017-05-07T19:31:22.862363',\n",
       "     'result': 'none',\n",
       "     'tsn': '527954'}},\n",
       "   'type': 'Feature'},\n",
       "  {'properties': {'tessinfo': {'cacheDate': '2017-05-07T16:38:33.155004',\n",
       "     'result': 'none',\n",
       "     'tsn': '777912'}},\n",
       "   'type': 'Feature'},\n",
       "  {'properties': {'tessinfo': {'CommonName': 'Pahranagat roundtail chub',\n",
       "     'ListingDate': '1970-10-13',\n",
       "     'PopulationDescription': 'Wherever found',\n",
       "     'SpeciesCode': 'E00R',\n",
       "     'Status': 'E',\n",
       "     'StatusText': 'Endangered',\n",
       "     'cacheDate': '2017-05-07T16:38:34.510363',\n",
       "     'entityId': '226',\n",
       "     'result': 'success',\n",
       "     'tsn': '201922'}},\n",
       "   'type': 'Feature'},\n",
       "  {'properties': {'tessinfo': {'cacheDate': '2017-05-07T16:38:36.000127',\n",
       "     'result': 'none',\n",
       "     'tsn': '117389'}},\n",
       "   'type': 'Feature'},\n",
       "  {'properties': {'tessinfo': {'cacheDate': '2017-05-07T16:38:38.867691',\n",
       "     'result': 'none',\n",
       "     'tsn': '167233'}},\n",
       "   'type': 'Feature'},\n",
       "  {'properties': {'tessinfo': {'cacheDate': '2017-05-07T16:38:45.033644',\n",
       "     'result': 'none',\n",
       "     'tsn': '102920'}},\n",
       "   'type': 'Feature'},\n",
       "  {'properties': {'tessinfo': {'cacheDate': '2017-05-07T16:38:47.976109',\n",
       "     'result': 'none',\n",
       "     'tsn': '177938'}},\n",
       "   'type': 'Feature'},\n",
       "  {'properties': {'tessinfo': {'cacheDate': '2017-05-07T16:38:49.551899',\n",
       "     'result': 'none',\n",
       "     'tsn': '77051'}},\n",
       "   'type': 'Feature'},\n",
       "  {'properties': {'tessinfo': {'cacheDate': '2017-05-07T16:38:51.891683',\n",
       "     'result': 'none',\n",
       "     'tsn': '36657'}},\n",
       "   'type': 'Feature'},\n",
       "  {'properties': {'tessinfo': {'cacheDate': '2017-05-07T16:49:19.653415',\n",
       "     'result': 'none',\n",
       "     'tsn': '167812'}},\n",
       "   'type': 'Feature'},\n",
       "  {'properties': {'tessinfo': {'cacheDate': '2017-05-07T19:31:26.977301',\n",
       "     'result': 'none',\n",
       "     'tsn': '16908'}},\n",
       "   'type': 'Feature'},\n",
       "  {'properties': {'tessinfo': {'cacheDate': '2017-05-07T16:39:01.141717',\n",
       "     'result': 'none',\n",
       "     'tsn': '571933'}},\n",
       "   'type': 'Feature'},\n",
       "  {'properties': {'tessinfo': {'cacheDate': '2017-05-07T16:38:55.466921',\n",
       "     'result': 'none',\n",
       "     'tsn': '505370'}},\n",
       "   'type': 'Feature'},\n",
       "  {'properties': {'tessinfo': {'cacheDate': '2017-05-07T16:38:58.923262',\n",
       "     'result': 'none',\n",
       "     'tsn': '80685'}},\n",
       "   'type': 'Feature'},\n",
       "  {'properties': {'tessinfo': {'cacheDate': '2017-05-07T16:45:17.271207',\n",
       "     'result': 'none',\n",
       "     'tsn': '185680'}},\n",
       "   'type': 'Feature'},\n",
       "  {'properties': {'tessinfo': {'CommonName': 'Popolo',\n",
       "     'ListingDate': '2016-10-31',\n",
       "     'PopulationDescription': 'Wherever found',\n",
       "     'SpeciesCode': 'Q21R',\n",
       "     'Status': 'E',\n",
       "     'StatusText': 'Endangered',\n",
       "     'cacheDate': '2017-05-07T16:38:54.242871',\n",
       "     'entityId': '6870',\n",
       "     'result': 'success',\n",
       "     'tsn': '30483'}},\n",
       "   'type': 'Feature'},\n",
       "  {'properties': {'tessinfo': {'cacheDate': '2017-05-07T20:22:33.248582',\n",
       "     'result': 'none',\n",
       "     'tsn': '180174'}},\n",
       "   'type': 'Feature'},\n",
       "  {'properties': {'tessinfo': {'cacheDate': '2017-05-07T16:39:08.043136',\n",
       "     'result': 'none',\n",
       "     'tsn': '24250'}},\n",
       "   'type': 'Feature'},\n",
       "  {'properties': {'tessinfo': {'cacheDate': '2017-05-07T16:39:05.770039',\n",
       "     'result': 'none',\n",
       "     'tsn': '170047'}},\n",
       "   'type': 'Feature'},\n",
       "  {'properties': {'tessinfo': {'CommonName': 'Dakota Skipper',\n",
       "     'ListingDate': '2014-11-24',\n",
       "     'PopulationDescription': 'Wherever found',\n",
       "     'SpeciesCode': 'I011',\n",
       "     'Status': 'T',\n",
       "     'StatusText': 'Threatened',\n",
       "     'cacheDate': '2017-05-07T16:39:09.152716',\n",
       "     'entityId': '3412',\n",
       "     'result': 'success',\n",
       "     'tsn': '706618'}},\n",
       "   'type': 'Feature'}],\n",
       " 'forGrid': [{'dataIndex': 'tessinfo',\n",
       "   'header': 'tessinfo',\n",
       "   'type': 'json',\n",
       "   'typeObj': None}],\n",
       " 'forStore': [{'name': 'tessinfo', 'type': 'json'}],\n",
       " 'success': True,\n",
       " 'type': 'FeatureCollection'}"
      ]
     },
     "metadata": {},
     "output_type": "display_data"
    }
   ],
   "source": [
    "display (requests.get(getBaseURL()+\"&q=SELECT to_json(tess) as tessinfo FROM tir.tir2 WHERE tess IS NOT NULL LIMIT 20\").json())"
   ]
  },
  {
   "cell_type": "code",
   "execution_count": null,
   "metadata": {
    "collapsed": true
   },
   "outputs": [],
   "source": []
  }
 ],
 "metadata": {
  "kernelspec": {
   "display_name": "Python 3",
   "language": "python",
   "name": "python3"
  },
  "language_info": {
   "codemirror_mode": {
    "name": "ipython",
    "version": 3
   },
   "file_extension": ".py",
   "mimetype": "text/x-python",
   "name": "python",
   "nbconvert_exporter": "python",
   "pygments_lexer": "ipython3",
   "version": "3.5.3"
  }
 },
 "nbformat": 4,
 "nbformat_minor": 0
}
