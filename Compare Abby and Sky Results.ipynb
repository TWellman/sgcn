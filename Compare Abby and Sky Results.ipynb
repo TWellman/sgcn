{
 "cells": [
  {
   "cell_type": "markdown",
   "metadata": {},
   "source": [
    "This notebook is some work in progress that compares the methods used in my derivation of Abby's original name processing code that used the R-Taxize package in an interactive way. The query looks for cases where Abby's process found a match, but my process, designed to be run in a completely automated way, did not. I used this to tease out some remaining pesky issues in the ITIS notebook for the TIR. When I left this off, there were only 29 names that the new process did not work out.\n",
    "\n",
    "In reviewing these remaining cases, I found the following issues that I don't think are resolvable but that I also don't think are showstoppers for running this in an automated way:\n",
    "\n",
    "* There are cases at higher taxonomic levels where there is more than one taxon that is \"valid\" or \"accepted\" in ITIS. There are other annotation properties that indicate the level of completeness. Using a human-driven process with R Taxize or something like it, a user can select based on this annotation. My current process moves on and records a negative result if there is more than one match based on a search that now constrains to \"valid\" or \"accepted.\" While we could tweak the algorithm to look for clues in the completeness properties and make a reasonable selection, I don't think it's worth adding that complexity for the relative rare cases where it would come up.\n",
    "\n",
    "* There are cases where it looks like Abby might have done some additional work as the script was running. Some names do not come up in any kind of search. Following the selections that I think Abby made interactively, I can see that Genus names changed or other things are quite different. We might eventually deal with this in the Taxonomic Information Registry by building some kind of annotation structure that would link names we encounter in the registry to something we know that is not captured in a taxonomic authority. That could then be fed into processing algorithms to use in going after improved information. There are also probably some more complex searches we could run by going to the Genus or other higher taxonomy level and then exploring the tree, but the gain in additional name matches doesn't seem worth it at this time.\n",
    "\n",
    "* There are a couple cases of additional scientific name shorthand that Abby cleaned up (e.g., \"Procambarus h. hagenianus\" to \"Procambarus hagenianus hagenianus\"). We could also see about handling this in the cleaning function, but it will be a little challenging to tease out those cases from those where the intent of abbreviated strings in the name means something different. Again, the gain is not worth it at this time."
   ]
  },
  {
   "cell_type": "code",
   "execution_count": 72,
   "metadata": {
    "collapsed": true
   },
   "outputs": [],
   "source": [
    "import requests,configparser\n",
    "from IPython.display import display\n"
   ]
  },
  {
   "cell_type": "code",
   "execution_count": 73,
   "metadata": {
    "collapsed": true
   },
   "outputs": [],
   "source": [
    "# Get API keys and any other config details from a file that is external to the code.\n",
    "config = configparser.RawConfigParser()\n",
    "config.read_file(open(r'../config/stuff.py'))"
   ]
  },
  {
   "cell_type": "code",
   "execution_count": 74,
   "metadata": {
    "collapsed": true
   },
   "outputs": [],
   "source": [
    "# Build base URL with API key using input from the external config.\n",
    "def getBaseURL():\n",
    "    gc2APIKey = config.get('apiKeys','apiKey_GC2_BCB').replace('\"','')\n",
    "    apiBaseURL = \"https://gc2.mapcentia.com/api/v1/sql/bcb?key=\"+gc2APIKey\n",
    "    return apiBaseURL"
   ]
  },
  {
   "cell_type": "code",
   "execution_count": 102,
   "metadata": {
    "collapsed": false,
    "scrolled": true
   },
   "outputs": [
    {
     "name": "stdout",
     "output_type": "stream",
     "text": [
      "ITIS ID: http://services.itis.gov/?q=tsn:110182\n",
      "Submitted name: Pseudanophthalmus grandis orthosulc\n",
      "Abby's clean name: Pseudanophthalmus grandis orthosulc\n",
      "----\n",
      "ITIS ID: http://services.itis.gov/?q=tsn:152732\n",
      "Submitted name: Siphonaptera\n",
      "Abby's clean name: Siphonaptera\n",
      "----\n",
      "ITIS ID: http://services.itis.gov/?q=tsn:188712\n",
      "Submitted name: Lithophane l. lepida\n",
      "Abby's clean name: Lithophane lepida\n",
      "----\n",
      "ITIS ID: http://services.itis.gov/?q=tsn:22450\n",
      "Submitted name: Populus ������acuminata\n",
      "Abby's clean name: Populus ������acuminata\n",
      "----\n",
      "ITIS ID: http://services.itis.gov/?q=tsn:22472\n",
      "Submitted name: Populus ������smithii\n",
      "Abby's clean name: Populus ������smithii\n",
      "----\n",
      "ITIS ID: http://services.itis.gov/?q=tsn:28137\n",
      "Submitted name: Chamaesyce polycarpa var. simulans\n",
      "Abby's clean name: Chamaesyce polycarpa var. simulans\n",
      "----\n",
      "ITIS ID: http://services.itis.gov/?q=tsn:535318\n",
      "Submitted name: Chamaesyce celastroides var. kaenana\n",
      "Abby's clean name: Chamaesyce celastroides var. kaenana\n",
      "----\n",
      "ITIS ID: http://services.itis.gov/?q=tsn:535335\n",
      "Submitted name: Chamaesyce chaetocalyx var. triligulata\n",
      "Abby's clean name: Chamaesyce chaetocalyx var. triligulata\n",
      "----\n",
      "ITIS ID: http://services.itis.gov/?q=tsn:553377\n",
      "Submitted name: Etheostoma sp. cf. bellator\n",
      "Abby's clean name: Etheostoma. bellator\n",
      "----\n",
      "ITIS ID: http://services.itis.gov/?q=tsn:554134\n",
      "Submitted name: Aplonis tabuensis manuae/tutuilae\n",
      "Abby's clean name: Aplonis tabuensis\n",
      "----\n",
      "ITIS ID: http://services.itis.gov/?q=tsn:612592\n",
      "Submitted name: B. bonaerensis\n",
      "Abby's clean name: Balaenoptera bonaerensis\n",
      "----\n",
      "ITIS ID: http://services.itis.gov/?q=tsn:624281\n",
      "Submitted name: Archaeognatha\n",
      "Abby's clean name: Archaeognatha\n",
      "----\n",
      "ITIS ID: http://services.itis.gov/?q=tsn:650434\n",
      "Submitted name: Procambarus h. hagenianus\n",
      "Abby's clean name: Procambarus hagenianus hagenianus\n",
      "----\n",
      "ITIS ID: http://services.itis.gov/?q=tsn:67152\n",
      "Submitted name: Monticellina sp.\n",
      "Abby's clean name: Monticellina\n",
      "----\n",
      "ITIS ID: http://services.itis.gov/?q=tsn:694410\n",
      "Submitted name: Triepeolus rugosus\n",
      "Abby's clean name: Triepeolus rugosus\n",
      "----\n",
      "ITIS ID: http://services.itis.gov/?q=tsn:703036\n",
      "Submitted name: Stizocera floridana\n",
      "Abby's clean name: Stizocera floridana\n",
      "----\n",
      "ITIS ID: http://services.itis.gov/?q=tsn:726985\n",
      "Submitted name: Ursus arctos kenai\n",
      "Abby's clean name: Ursus arctos kenai\n",
      "----\n",
      "ITIS ID: http://services.itis.gov/?q=tsn:777827\n",
      "Submitted name: Fixsenia (Satyrium) ilavia\n",
      "Abby's clean name: Satyrium ilavia\n",
      "----\n",
      "ITIS ID: http://services.itis.gov/?q=tsn:931149\n",
      "Submitted name: Eutamias cinereicollis\n",
      "Abby's clean name: Eutamias cinereicollis\n",
      "----\n",
      "ITIS ID: http://services.itis.gov/?q=tsn:931312\n",
      "Submitted name: Eutamias quadrivittatus\n",
      "Abby's clean name: Eutamias quadrivittatus\n",
      "----\n",
      "ITIS ID: http://services.itis.gov/?q=tsn:931782\n",
      "Submitted name: Pseudanophthalmus grandis ssp 1\n",
      "Abby's clean name: Pseudanophthalmus grandis\n",
      "----\n",
      "ITIS ID: http://services.itis.gov/?q=tsn:936182\n",
      "Submitted name: Hemileuca (chinatiensis) comwayae\n",
      "Abby's clean name: Hemileuca chinatiensis\n",
      "----\n",
      "ITIS ID: http://services.itis.gov/?q=tsn:938301\n",
      "Submitted name: Anarta luteola\n",
      "Abby's clean name: Anarta luteola\n",
      "----\n",
      "ITIS ID: http://services.itis.gov/?q=tsn:940112\n",
      "Submitted name: Renia sp. 1 nr. Discoloralis\n",
      "Abby's clean name: Renia. Discoloralis\n",
      "----\n",
      "ITIS ID: http://services.itis.gov/?q=tsn:942782\n",
      "Submitted name: Itame sp. 1 nr. Inextricata\n",
      "Abby's clean name: Itame. Inextricata\n",
      "----\n",
      "ITIS ID: http://services.itis.gov/?q=tsn:948630\n",
      "Submitted name: Myotis volans (longicrus)\n",
      "Abby's clean name: Myotis volans longicrus\n",
      "----\n",
      "ITIS ID: http://services.itis.gov/?q=tsn:99419\n",
      "Submitted name: Folsomia sp. 2 nr. macrochaeta\n",
      "Abby's clean name: Folsomia. macrochaeta\n",
      "----\n",
      "ITIS ID: http://services.itis.gov/?q=tsn:99840\n",
      "Submitted name: Pseudosinella sp. 7 nr. Nata\n",
      "Abby's clean name: Pseudosinella. Nata\n",
      "----\n",
      "ITIS ID: https://services.itis.gov/?q=tsn:102123\n",
      "Submitted name: Enallagma optimolocus\n",
      "Abby's clean name: Enallagma optimolocus\n",
      "----\n",
      "29\n"
     ]
    }
   ],
   "source": [
    "q = \"SELECT DISTINCT ON (taxonomicauthorityid_accepted) \\\n",
    "    taxonomicauthorityid_accepted, scientificname_submitted, scientificname_cleaned \\\n",
    "    FROM public.sgcn \\\n",
    "    WHERE taxonomicauthorityid_accepted LIKE '%itis%' AND \\\n",
    "    taxonomicauthorityid_accepted NOT IN \\\n",
    "    (SELECT taxonomicauthorityid FROM sgcn.sgcn_nationallist)\"\n",
    "r = requests.get(getBaseURL()+\"&q=\"+q).json()\n",
    "\n",
    "recordCount = 0\n",
    "\n",
    "for feature in r[\"features\"]:\n",
    "    print (\"ITIS ID: \"+feature[\"properties\"][\"taxonomicauthorityid_accepted\"])\n",
    "    print (\"Submitted name: \"+feature[\"properties\"][\"scientificname_submitted\"])\n",
    "    print (\"Abby's clean name: \"+feature[\"properties\"][\"scientificname_cleaned\"])\n",
    "    print (\"----\")\n",
    "#    print (requests.get(getBaseURL()+\"&q=UPDATE tir.tir2 SET itis = Null WHERE registration->'SGCN_ScientificName_Submitted' = '\"+feature[\"properties\"][\"scientificname_submitted\"]+\"'\").json())\n",
    "    recordCount = recordCount + 1\n",
    "\n",
    "print (recordCount)"
   ]
  },
  {
   "cell_type": "code",
   "execution_count": null,
   "metadata": {
    "collapsed": true
   },
   "outputs": [],
   "source": []
  }
 ],
 "metadata": {
  "kernelspec": {
   "display_name": "Python 3",
   "language": "python",
   "name": "python3"
  },
  "language_info": {
   "codemirror_mode": {
    "name": "ipython",
    "version": 3
   },
   "file_extension": ".py",
   "mimetype": "text/x-python",
   "name": "python",
   "nbconvert_exporter": "python",
   "pygments_lexer": "ipython3",
   "version": "3.5.3"
  }
 },
 "nbformat": 4,
 "nbformat_minor": 0
}
