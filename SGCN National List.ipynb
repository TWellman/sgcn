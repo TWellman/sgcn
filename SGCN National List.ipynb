{
 "cells": [
  {
   "cell_type": "markdown",
   "metadata": {
    "deletable": true,
    "editable": true
   },
   "source": [
    "# SGCN National List\n",
    "\n",
    "The full [national list](https://www1.usgs.gov/csas/swap/national_list.html) of SGCN species across 2005 and 2015 represents a relatively complex query that needs to sum up the total states reporting each species. There may be some way to drive everything with some feature of the Elasticsearch index on the full original data that I haven't figured out yet, but I was only able to come up with a SQL statement to drive this.\n",
    "```sql\n",
    " SELECT scientificname_accepted AS scientificname,\n",
    "    (array_agg(taxonomicauthorityid_accepted ORDER BY sgcn_year DESC))[1] AS taxonomicauthorityid,\n",
    "    (array_agg(commonname_submitted ORDER BY sgcn_year DESC))[1] AS commonname,\n",
    "    (array_agg(taxonomicgroup_submitted ORDER BY sgcn_year DESC))[1] AS taxonomicgroup,\n",
    "    sum(((sgcn_year = 2005))::integer) AS sgcn2005,\n",
    "    sum(((sgcn_year = 2015))::integer) AS sgcn2015\n",
    "   FROM sgcn.sgcn\n",
    "  WHERE taxonomicauthorityid_accepted <> ''\n",
    "  GROUP BY scientificname_accepted\n",
    "```  \n",
    "Running that live is way too costly on the system, so I built a view in GC2 using this select statement and indexed that in Elasticsearch as sgcn_nationallist. This results in a much more responsive query. This query selects only those records where there is an accepted taxonomic authority ID, which is the basic definition of what ends up on the national list."
   ]
  },
  {
   "cell_type": "markdown",
   "metadata": {},
   "source": [
    "## UPDATE\n",
    "The whole SGCN system has been completely reengineered, but I tried to keep the basic final output in something close to the state that has been built against so far for the SWAP app. The sgcn_nationallist view and ElasticSearch index should be identical to what they were before, but the underlying data are all new. Here are a couple of caveats:\n",
    "\n",
    "* The commonname now comes mostly from English vernacular names discovered in ITIS when those are available. Otherwise, there is currently a query that pulls common name from the originally submitted information. This will be improved to be a dynamic conditional query later, but I ran out of time for the moment.\n",
    "* The taxonomic group still comes from what the states originally submitted, so it is blank for some entries. This will be improved once Abby provides a mapping from ITIS taxonomic levels to some logical grouping that we want to put the national list into.\n",
    "* The underlying data from the states is also all new here. I built a whole new process that reads directly from the source data repository in ScienceBase and processes source files into records in the new sgcn.sgcn table (new sgcn schema in the GC2 instance). Those are then processed using a different method of checking taxonomy against name authorities. Currently, the final data only include the most solid matches on ITIS. WoRMS taxonomic checks have not been completed to fill in some of the blanks, and the ITIS matching algorithm can be improved to find additional matches. I took a fairly conservative approach on the matching process, so there will likely be additional matches found in future to expand out the \"SGCN National List.\""
   ]
  },
  {
   "cell_type": "code",
   "execution_count": 1,
   "metadata": {
    "collapsed": true,
    "deletable": true,
    "editable": true
   },
   "outputs": [],
   "source": [
    "import requests\n",
    "from IPython.display import display"
   ]
  },
  {
   "cell_type": "code",
   "execution_count": 2,
   "metadata": {
    "collapsed": true,
    "deletable": true,
    "editable": true
   },
   "outputs": [],
   "source": [
    "#Class to render tables\n",
    "class ListTable(list):\n",
    "    def _repr_html_(self):\n",
    "        html = [\"<table>\"]\n",
    "        for row in self:\n",
    "            html.append(\"<tr>\")\n",
    "            \n",
    "            for col in row:\n",
    "                html.append(\"<td>{0}</td>\".format(col))\n",
    "            \n",
    "            html.append(\"</tr>\")\n",
    "        html.append(\"</table>\")\n",
    "        return ''.join(html)"
   ]
  },
  {
   "cell_type": "markdown",
   "metadata": {
    "deletable": true,
    "editable": true
   },
   "source": [
    "This query returns results from the Elasticsearch index for the sgcn_nationallist view. It only calls the first 100 results, so that will need to be paginated for the SWAP online app. I included the taxonomic authority ID as a reference. Those IDs to ITIS or WoRMS return a machine-readable response and are not content negotiable, so if we want to include them in the UI, we would need to translate the ID into something for humans."
   ]
  },
  {
   "cell_type": "code",
   "execution_count": 5,
   "metadata": {
    "collapsed": false,
    "deletable": true,
    "editable": true,
    "scrolled": true
   },
   "outputs": [
    {
     "data": {
      "text/html": [
       "<table><tr><td>Scientific Name</td><td>Common Name</td><td>2005</td><td>2015</td><td>Taxonomic Group</td><td>Taxonomic Authority ID/Link</td></tr><tr><td>Acupalpus rectangulus</td><td>no common name</td><td>1</td><td>0</td><td></td><td>http://services.itis.gov/?q=tsn:932424</td></tr><tr><td>Acyrtops beryllinus</td><td>emerald clingfish</td><td>1</td><td>0</td><td>Fish</td><td>http://services.itis.gov/?q=tsn:164472</td></tr><tr><td>Adalia bipunctata</td><td>twospotted lady beetle</td><td>0</td><td>1</td><td>Insects</td><td>http://services.itis.gov/?q=tsn:114341</td></tr><tr><td>Adlumia fungosa</td><td>mountain-fringe</td><td>0</td><td>1</td><td>Plants</td><td>http://services.itis.gov/?q=tsn:18897</td></tr><tr><td>Adrityla cucullata</td><td>A Millipede</td><td>1</td><td>0</td><td>Myriapods</td><td>http://services.itis.gov/?q=tsn:570545</td></tr><tr><td>Aeoloplides rotundipennis</td><td>Grasshopper</td><td>1</td><td>0</td><td></td><td>http://services.itis.gov/?q=tsn:657836</td></tr><tr><td>Aerodramus vanikorensis bartschi</td><td>Mariana Gray Swiftlet</td><td>2</td><td>0</td><td></td><td>http://services.itis.gov/?q=tsn:554964</td></tr><tr><td>Aeropedellus clavatus</td><td>Club-horned Grasshopper</td><td>1</td><td>1</td><td>Insects</td><td>http://services.itis.gov/?q=tsn:657840</td></tr><tr><td>Aeshna canadensis</td><td>Canada Darner</td><td>5</td><td>4</td><td>Insects</td><td>http://services.itis.gov/?q=tsn:185977</td></tr><tr><td>Aeshna constricta</td><td>Lance-tipped Darner</td><td>3</td><td>2</td><td>Insects</td><td>http://services.itis.gov/?q=tsn:101609</td></tr><tr><td>Aeshna sitchensis</td><td>Zigzag Darner</td><td>3</td><td>4</td><td>Insects</td><td>http://services.itis.gov/?q=tsn:185983</td></tr><tr><td>Aeshna subarctica</td><td>Subarctic Darner</td><td>7</td><td>4</td><td>Insects</td><td>http://services.itis.gov/?q=tsn:185984</td></tr><tr><td>Aeshna tuberculifera</td><td>Black-tipped Darner</td><td>5</td><td>2</td><td>Insects</td><td>http://services.itis.gov/?q=tsn:185980</td></tr><tr><td>Aethra edentata</td><td>flat elbow crab</td><td>1</td><td>1</td><td>Crustaceans</td><td>http://services.itis.gov/?q=tsn:660519</td></tr><tr><td>Aetobatus narinari</td><td>bonnetray</td><td>1</td><td>1</td><td>Fish</td><td>http://services.itis.gov/?q=tsn:160978</td></tr><tr><td>Agabus canadensis</td><td>A Predaceous Diving Beetle </td><td>1</td><td>0</td><td></td><td>http://services.itis.gov/?q=tsn:112001</td></tr><tr><td>Agabus disintegratus</td><td>no common name</td><td>1</td><td>0</td><td></td><td>http://services.itis.gov/?q=tsn:111978</td></tr><tr><td>Agabus gagates</td><td>A Predaceous Diving Beetle</td><td>0</td><td>1</td><td>Insects</td><td>http://services.itis.gov/?q=tsn:728290</td></tr><tr><td>Agabus immaturus</td><td>A Predaceous Diving Beetle</td><td>1</td><td>1</td><td>Insects</td><td>http://services.itis.gov/?q=tsn:193531</td></tr><tr><td>Agalinis auriculata</td><td>earleaf false foxglove</td><td>1</td><td>3</td><td>Plants</td><td>http://services.itis.gov/?q=tsn:182269</td></tr><tr><td>Agalinis calycina</td><td>leoncita false foxglove</td><td>0</td><td>1</td><td>Plants</td><td>http://services.itis.gov/?q=tsn:33010</td></tr><tr><td>Agalinis heterophylla</td><td>prairie false foxglove</td><td>1</td><td>1</td><td>Plants</td><td>http://services.itis.gov/?q=tsn:33027</td></tr><tr><td>Agalinis maritima</td><td>saltmarsh false foxglove</td><td>0</td><td>1</td><td>Plant</td><td>http://services.itis.gov/?q=tsn:33008</td></tr><tr><td>Agalinis navasotensis</td><td>Navasota false foxglove</td><td>0</td><td>1</td><td>Plants</td><td>http://services.itis.gov/?q=tsn:508045</td></tr><tr><td>Agallissus lepturoides</td><td>no common name</td><td>1</td><td>0</td><td></td><td>http://services.itis.gov/?q=tsn:702422</td></tr></table>"
      ],
      "text/plain": [
       "[['Scientific Name',\n",
       "  'Common Name',\n",
       "  '2005',\n",
       "  '2015',\n",
       "  'Taxonomic Group',\n",
       "  'Taxonomic Authority ID/Link'],\n",
       " ['Acupalpus rectangulus',\n",
       "  'no common name',\n",
       "  1,\n",
       "  0,\n",
       "  '',\n",
       "  'http://services.itis.gov/?q=tsn:932424'],\n",
       " ['Acyrtops beryllinus',\n",
       "  'emerald clingfish',\n",
       "  1,\n",
       "  0,\n",
       "  'Fish',\n",
       "  'http://services.itis.gov/?q=tsn:164472'],\n",
       " ['Adalia bipunctata',\n",
       "  'twospotted lady beetle',\n",
       "  0,\n",
       "  1,\n",
       "  'Insects',\n",
       "  'http://services.itis.gov/?q=tsn:114341'],\n",
       " ['Adlumia fungosa',\n",
       "  'mountain-fringe',\n",
       "  0,\n",
       "  1,\n",
       "  'Plants',\n",
       "  'http://services.itis.gov/?q=tsn:18897'],\n",
       " ['Adrityla cucullata',\n",
       "  'A Millipede',\n",
       "  1,\n",
       "  0,\n",
       "  'Myriapods',\n",
       "  'http://services.itis.gov/?q=tsn:570545'],\n",
       " ['Aeoloplides rotundipennis',\n",
       "  'Grasshopper',\n",
       "  1,\n",
       "  0,\n",
       "  '',\n",
       "  'http://services.itis.gov/?q=tsn:657836'],\n",
       " ['Aerodramus vanikorensis bartschi',\n",
       "  'Mariana Gray Swiftlet',\n",
       "  2,\n",
       "  0,\n",
       "  '',\n",
       "  'http://services.itis.gov/?q=tsn:554964'],\n",
       " ['Aeropedellus clavatus',\n",
       "  'Club-horned Grasshopper',\n",
       "  1,\n",
       "  1,\n",
       "  'Insects',\n",
       "  'http://services.itis.gov/?q=tsn:657840'],\n",
       " ['Aeshna canadensis',\n",
       "  'Canada Darner',\n",
       "  5,\n",
       "  4,\n",
       "  'Insects',\n",
       "  'http://services.itis.gov/?q=tsn:185977'],\n",
       " ['Aeshna constricta',\n",
       "  'Lance-tipped Darner',\n",
       "  3,\n",
       "  2,\n",
       "  'Insects',\n",
       "  'http://services.itis.gov/?q=tsn:101609'],\n",
       " ['Aeshna sitchensis',\n",
       "  'Zigzag Darner',\n",
       "  3,\n",
       "  4,\n",
       "  'Insects',\n",
       "  'http://services.itis.gov/?q=tsn:185983'],\n",
       " ['Aeshna subarctica',\n",
       "  'Subarctic Darner',\n",
       "  7,\n",
       "  4,\n",
       "  'Insects',\n",
       "  'http://services.itis.gov/?q=tsn:185984'],\n",
       " ['Aeshna tuberculifera',\n",
       "  'Black-tipped Darner',\n",
       "  5,\n",
       "  2,\n",
       "  'Insects',\n",
       "  'http://services.itis.gov/?q=tsn:185980'],\n",
       " ['Aethra edentata',\n",
       "  'flat elbow crab',\n",
       "  1,\n",
       "  1,\n",
       "  'Crustaceans',\n",
       "  'http://services.itis.gov/?q=tsn:660519'],\n",
       " ['Aetobatus narinari',\n",
       "  'bonnetray',\n",
       "  1,\n",
       "  1,\n",
       "  'Fish',\n",
       "  'http://services.itis.gov/?q=tsn:160978'],\n",
       " ['Agabus canadensis',\n",
       "  'A Predaceous Diving Beetle ',\n",
       "  1,\n",
       "  0,\n",
       "  '',\n",
       "  'http://services.itis.gov/?q=tsn:112001'],\n",
       " ['Agabus disintegratus',\n",
       "  'no common name',\n",
       "  1,\n",
       "  0,\n",
       "  '',\n",
       "  'http://services.itis.gov/?q=tsn:111978'],\n",
       " ['Agabus gagates',\n",
       "  'A Predaceous Diving Beetle',\n",
       "  0,\n",
       "  1,\n",
       "  'Insects',\n",
       "  'http://services.itis.gov/?q=tsn:728290'],\n",
       " ['Agabus immaturus',\n",
       "  'A Predaceous Diving Beetle',\n",
       "  1,\n",
       "  1,\n",
       "  'Insects',\n",
       "  'http://services.itis.gov/?q=tsn:193531'],\n",
       " ['Agalinis auriculata',\n",
       "  'earleaf false foxglove',\n",
       "  1,\n",
       "  3,\n",
       "  'Plants',\n",
       "  'http://services.itis.gov/?q=tsn:182269'],\n",
       " ['Agalinis calycina',\n",
       "  'leoncita false foxglove',\n",
       "  0,\n",
       "  1,\n",
       "  'Plants',\n",
       "  'http://services.itis.gov/?q=tsn:33010'],\n",
       " ['Agalinis heterophylla',\n",
       "  'prairie false foxglove',\n",
       "  1,\n",
       "  1,\n",
       "  'Plants',\n",
       "  'http://services.itis.gov/?q=tsn:33027'],\n",
       " ['Agalinis maritima',\n",
       "  'saltmarsh false foxglove',\n",
       "  0,\n",
       "  1,\n",
       "  'Plant',\n",
       "  'http://services.itis.gov/?q=tsn:33008'],\n",
       " ['Agalinis navasotensis',\n",
       "  'Navasota false foxglove',\n",
       "  0,\n",
       "  1,\n",
       "  'Plants',\n",
       "  'http://services.itis.gov/?q=tsn:508045'],\n",
       " ['Agallissus lepturoides',\n",
       "  'no common name',\n",
       "  1,\n",
       "  0,\n",
       "  '',\n",
       "  'http://services.itis.gov/?q=tsn:702422']]"
      ]
     },
     "metadata": {},
     "output_type": "display_data"
    }
   ],
   "source": [
    "sgcnNationalListURL = \"https://gc2.mapcentia.com/api/v1/elasticsearch/search/bcb/sgcn/sgcn_nationallist?size=25&from=25\"\n",
    "sgcnNationalList = requests.get(sgcnNationalListURL).json()\n",
    "\n",
    "tableNationalList = ListTable()\n",
    "tableNationalList.append(['Scientific Name', 'Common Name', '2005', '2015', 'Taxonomic Group', 'Taxonomic Authority ID/Link'])\n",
    "\n",
    "for hit in sgcnNationalList['hits']['hits']:\n",
    "    tableNationalList.append([hit['_source']['properties']['scientificname'], hit['_source']['properties']['commonname'], hit['_source']['properties']['sgcn2005'], hit['_source']['properties']['sgcn2015'], hit['_source']['properties']['taxonomicgroup'], hit['_source']['properties']['taxonomicauthorityid']])\n",
    "\n",
    "display(tableNationalList)"
   ]
  },
  {
   "cell_type": "code",
   "execution_count": null,
   "metadata": {
    "collapsed": true,
    "deletable": true,
    "editable": true
   },
   "outputs": [],
   "source": []
  },
  {
   "cell_type": "code",
   "execution_count": null,
   "metadata": {
    "collapsed": true
   },
   "outputs": [],
   "source": []
  }
 ],
 "metadata": {
  "kernelspec": {
   "display_name": "Python 3",
   "language": "python",
   "name": "python3"
  },
  "language_info": {
   "codemirror_mode": {
    "name": "ipython",
    "version": 3
   },
   "file_extension": ".py",
   "mimetype": "text/x-python",
   "name": "python",
   "nbconvert_exporter": "python",
   "pygments_lexer": "ipython3",
   "version": "3.5.3"
  }
 },
 "nbformat": 4,
 "nbformat_minor": 0
}
