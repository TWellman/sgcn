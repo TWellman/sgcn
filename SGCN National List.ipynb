{
 "cells": [
  {
   "cell_type": "markdown",
   "metadata": {
    "deletable": true,
    "editable": true
   },
   "source": [
    "# SGCN National List\n",
    "\n",
    "The full [national list](https://www1.usgs.gov/csas/swap/national_list.html) of SGCN species across 2005 and 2015 represents a relatively complex query that needs to sum up the total states reporting each species. There may be some way to drive everything with some feature of the Elasticsearch index on the full original data that I haven't figured out yet, but I was only able to come up with a SQL statement to drive this.\n",
    "```sql\n",
    "SELECT concat('http://services.itis.gov/?q=tsn:', t.itis->'tsn') AS taxonomicauthorityid,\n",
    "(array_agg(t.itis->'nameWInd'))[1] AS scientificname,\n",
    "(array_agg(Coalesce(t.itis->'vernacular:English',s.commonname_submitted)))[1] AS commonname,\n",
    "(array_agg(s.taxonomicgroup_submitted ORDER BY sgcn_year DESC))[1] AS taxonomicgroup,\n",
    "sum(((s.sgcn_year = 2005))::integer) AS sgcn2005,\n",
    "sum(((s.sgcn_year = 2015))::integer) AS sgcn2015\n",
    "FROM sgcn.sgcn s\n",
    "JOIN tir.tir2 t ON\n",
    "t.registration->'SGCN_ScientificName_Submitted' = s.scientificname_submitted\n",
    "WHERE t.itis->'itisMatchMethod' NOT LIKE 'NotMatched%'\n",
    "GROUP BY t.itis->'tsn'\n",
    "```  \n",
    "Running that live is way too costly on the system, so I built a view in GC2 using this select statement and indexed that in Elasticsearch as sgcn_nationallist. This results in a much more responsive query. This query selects only those records where there is an accepted taxonomic authority ID, which is the basic definition of what ends up on the national list."
   ]
  },
  {
   "cell_type": "markdown",
   "metadata": {
    "deletable": true,
    "editable": true
   },
   "source": [
    "## UPDATE\n",
    "The whole SGCN system has been completely reengineered, but I tried to keep the basic final output in something close to the state that has been built against so far for the SWAP app. The sgcn_nationallist view and ElasticSearch index should be identical to what they were before, but the underlying data are all new. Here are a couple of caveats:\n",
    "\n",
    "* The query starts from the standpoint of the Taxonomic Information Registry joining to the SGCN table on the submitted/registered name.\n",
    "* Common Name comes from the ITIS vernacular English name if it exists or else uses the submitted common name from one of the states.\n",
    "* The taxonomic group still comes from what the states originally submitted, so it is blank for some entries. This will be improved once Abby provides a mapping from ITIS taxonomic levels to some logical grouping that we want to put the national list into.\n",
    "* The underlying data from the states is also all new here. I built a whole new process that reads directly from the source data repository in ScienceBase and processes source files into records in the new sgcn.sgcn table (new sgcn schema in the GC2 instance). Those are then processed using a different method of checking taxonomy against name authorities. Currently, the final data only include the most solid matches on ITIS. WoRMS taxonomic checks have not been completed to fill in some of the blanks, and the ITIS matching algorithm can be improved to find additional matches. I took a fairly conservative approach on the matching process, so there will likely be additional matches found in future to expand out the \"SGCN National List.\"\n",
    "* The taxonomic authority ID is concatenated to a URL string that can serve as a usable link for machine access if we want to put more ITIS information together. This ID is always the final accepted TSN for the name matched to ITIS and from which we draw taxonomy, common names, and other properties.\n",
    "* This query will have to be redone once I get the WoRMS matching service running and we need to account for taxonomic matches on more than one authority."
   ]
  },
  {
   "cell_type": "code",
   "execution_count": 1,
   "metadata": {
    "collapsed": true,
    "deletable": true,
    "editable": true
   },
   "outputs": [],
   "source": [
    "import requests\n",
    "from IPython.display import display"
   ]
  },
  {
   "cell_type": "code",
   "execution_count": 2,
   "metadata": {
    "collapsed": true,
    "deletable": true,
    "editable": true
   },
   "outputs": [],
   "source": [
    "#Class to render tables\n",
    "class ListTable(list):\n",
    "    def _repr_html_(self):\n",
    "        html = [\"<table>\"]\n",
    "        for row in self:\n",
    "            html.append(\"<tr>\")\n",
    "            \n",
    "            for col in row:\n",
    "                html.append(\"<td>{0}</td>\".format(col))\n",
    "            \n",
    "            html.append(\"</tr>\")\n",
    "        html.append(\"</table>\")\n",
    "        return ''.join(html)"
   ]
  },
  {
   "cell_type": "markdown",
   "metadata": {
    "deletable": true,
    "editable": true
   },
   "source": [
    "This query returns results from the Elasticsearch index for the sgcn_nationallist view. It only calls the first 25 results, so that will need to be paginated for the SWAP online app. I included the taxonomic authority ID as a reference. Those IDs to ITIS or WoRMS return a machine-readable response and are not content negotiable, so if we want to include them in the UI, we would need to translate the ID into something for humans."
   ]
  },
  {
   "cell_type": "code",
   "execution_count": 8,
   "metadata": {
    "collapsed": false,
    "deletable": true,
    "editable": true,
    "scrolled": true
   },
   "outputs": [
    {
     "data": {
      "text/html": [
       "<table><tr><td>Scientific Name</td><td>Common Name</td><td>2005</td><td>2015</td><td>Taxonomic Group</td><td>Taxonomic Authority ID/Link</td></tr><tr><td>Archeolarca aalbui</td><td>Aalbu's Cave Pseudoscorpion</td><td>1</td><td>0</td><td>Arachnids</td><td>http://services.itis.gov/q=tsn:749263</td></tr><tr><td>Uria aalge</td><td>Common Murre</td><td>3</td><td>1</td><td>Birds</td><td>http://services.itis.gov/q=tsn:176974</td></tr><tr><td>Pyrgulopsis aardahli</td><td>Benton Valley springsnail</td><td>1</td><td>0</td><td>Gastropods</td><td>http://services.itis.gov/q=tsn:568181</td></tr><tr><td>Poanes aaroni aaroni</td><td>Aarons Skipper</td><td>0</td><td>1</td><td>Insects</td><td>http://services.itis.gov/q=tsn:707326</td></tr><tr><td>Abacion tesselatum</td><td>A millipede</td><td>1</td><td>1</td><td>Other Invertebrates</td><td>http://services.itis.gov/q=tsn:570281</td></tr><tr><td>Farancia abacura abacura</td><td>Eastern Mud Snake</td><td>1</td><td>1</td><td>Reptiles</td><td>http://services.itis.gov/q=tsn:174165</td></tr><tr><td>Farancia abacura</td><td>Mud Snake</td><td>3</td><td>1</td><td>Reptiles</td><td>http://services.itis.gov/q=tsn:174164</td></tr><tr><td>Farancia abacura reinwardtii</td><td>Western Mud Snake</td><td>3</td><td>2</td><td>Reptiles</td><td>http://services.itis.gov/q=tsn:209185</td></tr><tr><td>Abaeis nicippe</td><td>Sleepy Orange</td><td>0</td><td>1</td><td>Insects</td><td>http://services.itis.gov/q=tsn:778216</td></tr><tr><td>Abagrotis brunneipennis</td><td>Yankee Dart</td><td>0</td><td>1</td><td>Insects</td><td>http://services.itis.gov/q=tsn:771341</td></tr><tr><td>Abagrotis orbis</td><td>A noctuid moth</td><td>1</td><td>0</td><td>Insects</td><td>http://services.itis.gov/q=tsn:940756</td></tr><tr><td>Abagrotis orbis</td><td>no common name</td><td>1</td><td>0</td><td></td><td>http://services.itis.gov/q=tsn:771360</td></tr><tr><td>Abagrotis nefascia</td><td>Coastal Heathland Cutworm</td><td>1</td><td>1</td><td>Insects</td><td>http://services.itis.gov/q=tsn:771359</td></tr><tr><td>Coleonyx variegatus abbotti</td><td>San Diego Banded Gecko</td><td>1</td><td>0</td><td>Reptiles</td><td>http://services.itis.gov/q=tsn:208973</td></tr><tr><td>Catocala abbreviatella</td><td>Abbreviated Underwing</td><td>1</td><td>2</td><td>Insects</td><td>http://services.itis.gov/q=tsn:938063</td></tr><tr><td>Amphiagrion abbreviatum</td><td>Western Red Damsel</td><td>0</td><td>1</td><td>Insects</td><td>http://services.itis.gov/q=tsn:102094</td></tr><tr><td>Gomphus abbreviatus</td><td>Spine-crowned Clubtail</td><td>8</td><td>7</td><td>Insects</td><td>http://services.itis.gov/q=tsn:101671</td></tr><tr><td>Janus abbreviatus</td><td>willow shoot sawfly</td><td>1</td><td>1</td><td>Mollusks</td><td>http://services.itis.gov/q=tsn:152860</td></tr><tr><td>Microtus abbreviatus</td><td>St. Matthews Island vole</td><td>2</td><td>0</td><td>Mammals</td><td>http://services.itis.gov/q=tsn:180303</td></tr><tr><td>Amphioplus abdita</td><td>No common name</td><td>1</td><td>0</td><td></td><td>http://services.itis.gov/q=tsn:157709</td></tr><tr><td>Ampelisca abdita</td><td>No common name</td><td>1</td><td>1</td><td>Crustaceans</td><td>http://services.itis.gov/q=tsn:93329</td></tr><tr><td>Stygobromus abditus</td><td>James Cave amphipod</td><td>1</td><td>0</td><td>Crustaceans</td><td>http://services.itis.gov/q=tsn:621605</td></tr><tr><td>Protandrena abdominalis</td><td>A mining bee</td><td>0</td><td>1</td><td>Insects</td><td>http://services.itis.gov/q=tsn:753262</td></tr><tr><td>Cicindela abdominalis</td><td>Eastern Pinebarrens Tiger Beetle</td><td>4</td><td>2</td><td>Insects</td><td>http://services.itis.gov/q=tsn:697667</td></tr><tr><td>Chloealtis abdominalis</td><td>Rocky Mountain Sprinkled Locust</td><td>1</td><td>1</td><td>Insects</td><td>http://services.itis.gov/q=tsn:658064</td></tr></table>"
      ],
      "text/plain": [
       "[['Scientific Name',\n",
       "  'Common Name',\n",
       "  '2005',\n",
       "  '2015',\n",
       "  'Taxonomic Group',\n",
       "  'Taxonomic Authority ID/Link'],\n",
       " ['Archeolarca aalbui',\n",
       "  \"Aalbu's Cave Pseudoscorpion\",\n",
       "  1,\n",
       "  0,\n",
       "  'Arachnids',\n",
       "  'http://services.itis.gov/q=tsn:749263'],\n",
       " ['Uria aalge',\n",
       "  'Common Murre',\n",
       "  3,\n",
       "  1,\n",
       "  'Birds',\n",
       "  'http://services.itis.gov/q=tsn:176974'],\n",
       " ['Pyrgulopsis aardahli',\n",
       "  'Benton Valley springsnail',\n",
       "  1,\n",
       "  0,\n",
       "  'Gastropods',\n",
       "  'http://services.itis.gov/q=tsn:568181'],\n",
       " ['Poanes aaroni aaroni',\n",
       "  'Aaron\\x92s Skipper',\n",
       "  0,\n",
       "  1,\n",
       "  'Insects',\n",
       "  'http://services.itis.gov/q=tsn:707326'],\n",
       " ['Abacion tesselatum',\n",
       "  'A millipede',\n",
       "  1,\n",
       "  1,\n",
       "  'Other Invertebrates',\n",
       "  'http://services.itis.gov/q=tsn:570281'],\n",
       " ['Farancia abacura abacura',\n",
       "  'Eastern Mud Snake',\n",
       "  1,\n",
       "  1,\n",
       "  'Reptiles',\n",
       "  'http://services.itis.gov/q=tsn:174165'],\n",
       " ['Farancia abacura',\n",
       "  'Mud Snake',\n",
       "  3,\n",
       "  1,\n",
       "  'Reptiles',\n",
       "  'http://services.itis.gov/q=tsn:174164'],\n",
       " ['Farancia abacura reinwardtii',\n",
       "  'Western Mud Snake',\n",
       "  3,\n",
       "  2,\n",
       "  'Reptiles',\n",
       "  'http://services.itis.gov/q=tsn:209185'],\n",
       " ['Abaeis nicippe',\n",
       "  'Sleepy Orange',\n",
       "  0,\n",
       "  1,\n",
       "  'Insects',\n",
       "  'http://services.itis.gov/q=tsn:778216'],\n",
       " ['Abagrotis brunneipennis',\n",
       "  'Yankee Dart',\n",
       "  0,\n",
       "  1,\n",
       "  'Insects',\n",
       "  'http://services.itis.gov/q=tsn:771341'],\n",
       " ['Abagrotis orbis',\n",
       "  'A noctuid moth',\n",
       "  1,\n",
       "  0,\n",
       "  'Insects',\n",
       "  'http://services.itis.gov/q=tsn:940756'],\n",
       " ['Abagrotis orbis',\n",
       "  'no common name',\n",
       "  1,\n",
       "  0,\n",
       "  '',\n",
       "  'http://services.itis.gov/q=tsn:771360'],\n",
       " ['Abagrotis nefascia',\n",
       "  'Coastal Heathland Cutworm',\n",
       "  1,\n",
       "  1,\n",
       "  'Insects',\n",
       "  'http://services.itis.gov/q=tsn:771359'],\n",
       " ['Coleonyx variegatus abbotti',\n",
       "  'San Diego Banded Gecko',\n",
       "  1,\n",
       "  0,\n",
       "  'Reptiles',\n",
       "  'http://services.itis.gov/q=tsn:208973'],\n",
       " ['Catocala abbreviatella',\n",
       "  'Abbreviated Underwing',\n",
       "  1,\n",
       "  2,\n",
       "  'Insects',\n",
       "  'http://services.itis.gov/q=tsn:938063'],\n",
       " ['Amphiagrion abbreviatum',\n",
       "  'Western Red Damsel',\n",
       "  0,\n",
       "  1,\n",
       "  'Insects',\n",
       "  'http://services.itis.gov/q=tsn:102094'],\n",
       " ['Gomphus abbreviatus',\n",
       "  'Spine-crowned Clubtail',\n",
       "  8,\n",
       "  7,\n",
       "  'Insects',\n",
       "  'http://services.itis.gov/q=tsn:101671'],\n",
       " ['Janus abbreviatus',\n",
       "  'willow shoot sawfly',\n",
       "  1,\n",
       "  1,\n",
       "  'Mollusks',\n",
       "  'http://services.itis.gov/q=tsn:152860'],\n",
       " ['Microtus abbreviatus',\n",
       "  'St. Matthews Island vole',\n",
       "  2,\n",
       "  0,\n",
       "  'Mammals',\n",
       "  'http://services.itis.gov/q=tsn:180303'],\n",
       " ['Amphioplus abdita',\n",
       "  'No common name',\n",
       "  1,\n",
       "  0,\n",
       "  '',\n",
       "  'http://services.itis.gov/q=tsn:157709'],\n",
       " ['Ampelisca abdita',\n",
       "  'No common name',\n",
       "  1,\n",
       "  1,\n",
       "  'Crustaceans',\n",
       "  'http://services.itis.gov/q=tsn:93329'],\n",
       " ['Stygobromus abditus',\n",
       "  'James Cave amphipod',\n",
       "  1,\n",
       "  0,\n",
       "  'Crustaceans',\n",
       "  'http://services.itis.gov/q=tsn:621605'],\n",
       " ['Protandrena abdominalis',\n",
       "  'A mining bee',\n",
       "  0,\n",
       "  1,\n",
       "  'Insects',\n",
       "  'http://services.itis.gov/q=tsn:753262'],\n",
       " ['Cicindela abdominalis',\n",
       "  'Eastern Pinebarrens Tiger Beetle',\n",
       "  4,\n",
       "  2,\n",
       "  'Insects',\n",
       "  'http://services.itis.gov/q=tsn:697667'],\n",
       " ['Chloealtis abdominalis',\n",
       "  'Rocky Mountain Sprinkled Locust',\n",
       "  1,\n",
       "  1,\n",
       "  'Insects',\n",
       "  'http://services.itis.gov/q=tsn:658064']]"
      ]
     },
     "metadata": {},
     "output_type": "display_data"
    }
   ],
   "source": [
    "sgcnNationalListURL = \"https://gc2.mapcentia.com/api/v1/elasticsearch/search/bcb/sgcn/sgcn_nationallist?size=25&q={%22sort%22:[{%22properties.scientificname%22:{%22order%22:%22asc%22}}]}\"\n",
    "sgcnNationalList = requests.get(sgcnNationalListURL).json()\n",
    "\n",
    "tableNationalList = ListTable()\n",
    "tableNationalList.append(['Scientific Name', 'Common Name', '2005', '2015', 'Taxonomic Group', 'Taxonomic Authority ID/Link'])\n",
    "\n",
    "for hit in sgcnNationalList['hits']['hits']:\n",
    "    tableNationalList.append([hit['_source']['properties']['scientificname'], hit['_source']['properties']['commonname'], hit['_source']['properties']['sgcn2005'], hit['_source']['properties']['sgcn2015'], hit['_source']['properties']['taxonomicgroup'], hit['_source']['properties']['taxonomicauthorityid']])\n",
    "\n",
    "display(tableNationalList)"
   ]
  },
  {
   "cell_type": "code",
   "execution_count": null,
   "metadata": {
    "collapsed": true,
    "deletable": true,
    "editable": true
   },
   "outputs": [],
   "source": []
  },
  {
   "cell_type": "code",
   "execution_count": null,
   "metadata": {
    "collapsed": true,
    "deletable": true,
    "editable": true
   },
   "outputs": [],
   "source": []
  }
 ],
 "metadata": {
  "kernelspec": {
   "display_name": "Python 3",
   "language": "python",
   "name": "python3"
  },
  "language_info": {
   "codemirror_mode": {
    "name": "ipython",
    "version": 3
   },
   "file_extension": ".py",
   "mimetype": "text/x-python",
   "name": "python",
   "nbconvert_exporter": "python",
   "pygments_lexer": "ipython3",
   "version": "3.5.3"
  }
 },
 "nbformat": 4,
 "nbformat_minor": 0
}
