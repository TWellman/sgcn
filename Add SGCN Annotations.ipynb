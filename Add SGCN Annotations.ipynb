{
 "cells": [
  {
   "cell_type": "markdown",
   "metadata": {
    "deletable": true,
    "editable": true
   },
   "source": [
    "This notebook builds out a set of SGCN-specific annotations in the TIR based on configuration files housed on the SGCN source repository item in ScienceBase. It aligns taxonomic groups with a logical set of higher taxonomy names, setting all others to \"other\" if not found in the config file. It then uses a cached list of the original species names identified for the 2005 SWAP exercise to flag taxa that should be included in that list. We use the preferred taxonomic group in the national and state lists for display and filtering, and we use the hard list of 2005 species to flag them to the \"National List\" for consistency when our current process of checking taxonomic authorities (ITIS and WoRMS) does not turn up the names.\n",
    "\n",
    "Note that this entire script needs to run in sequence. Because we are coming into this from the standpoint of external config files, it is much more efficient to use targeted SQL statements to update a whole set of records at a time in the TIR as opposed to looping every TIR record and pulling information from the config files."
   ]
  },
  {
   "cell_type": "code",
   "execution_count": 12,
   "metadata": {
    "collapsed": true,
    "deletable": true,
    "editable": true
   },
   "outputs": [],
   "source": [
    "import requests\n",
    "from IPython.display import display\n",
    "import pandas as pd\n",
    "from bis2 import gc2"
   ]
  },
  {
   "cell_type": "code",
   "execution_count": 16,
   "metadata": {
    "collapsed": true
   },
   "outputs": [],
   "source": [
    "# Set up the actions/targets for this particular instance\n",
    "thisRun = {}\n",
    "thisRun[\"instance\"] = \"DataDistillery\"\n",
    "thisRun[\"db\"] = \"BCB\"\n",
    "thisRun[\"baseURL\"] = gc2.sqlAPI(thisRun[\"instance\"],thisRun[\"db\"])\n",
    "thisRun[\"commitToDB\"] = True\n",
    "thisRun[\"resetSGCN\"] = False"
   ]
  },
  {
   "cell_type": "code",
   "execution_count": 17,
   "metadata": {
    "collapsed": false,
    "deletable": true,
    "editable": true
   },
   "outputs": [],
   "source": [
    "# Reset SGCN annotation in TIR\n",
    "if thisRun[\"resetSGCN\"]:\n",
    "    print (requests.get(gc2.sqlAPI(\"DataDistillery\",\"BCB\")+\"&q=UPDATE tir.tir SET sgcn = NULL\").json())"
   ]
  },
  {
   "cell_type": "code",
   "execution_count": 18,
   "metadata": {
    "collapsed": true,
    "deletable": true,
    "editable": true
   },
   "outputs": [],
   "source": [
    "# Retrieve information from stored files on the SGCN base repository item\n",
    "sb_sgcnCollectionItem = requests.get(\"https://www.sciencebase.gov/catalog/item/56d720ece4b015c306f442d5?format=json&fields=files\").json()\n",
    "\n",
    "for file in sb_sgcnCollectionItem[\"files\"]:\n",
    "    if file[\"title\"] == \"Configuration:Taxonomic Group Mappings\":\n",
    "        tgMappings = pd.read_table(file[\"url\"], sep=\",\", encoding=\"utf-8\")\n",
    "    elif file[\"title\"] == \"Original 2005 SWAP National List for reference\":\n",
    "        swap2005 = pd.read_table(file[\"url\"])"
   ]
  },
  {
   "cell_type": "code",
   "execution_count": 19,
   "metadata": {
    "collapsed": false,
    "deletable": true,
    "editable": true
   },
   "outputs": [],
   "source": [
    "# Insert the tax group name we want to use for any cases where the corresponding names are found from submitted data\n",
    "if thisRun[\"resetSGCN\"]:\n",
    "    for index, row in tgMappings.iterrows():\n",
    "        providedName = str(row[\"ProvidedName\"])\n",
    "        preferredName = str(row[\"PreferredName\"])\n",
    "        preferredNamePair = '\"taxonomicgroup\"=>\"'+preferredName+'\"'\n",
    "        print (providedName, preferredName)\n",
    "        q_updateGroups = \"UPDATE tir.tir SET sgcn = '\"+preferredNamePair+\"' WHERE registration->'taxonomicgroups' LIKE '%\"+providedName+\"%' OR registration->'taxonomicgroups' LIKE '%\"+preferredName+\"%'\"\n",
    "        r = requests.get(gc2.sqlAPI(\"DataDistillery\",\"BCB\")+\"&q=\"+q_updateGroups).json()\n",
    "\n",
    "        # Deal with really stupid problem with \"Ec\" and \"Ce\" are throwing a fit with PostgreSQL\n",
    "        # Strip first character from the provided name and try the query again\n",
    "        while \"message\" in r.keys():\n",
    "            providedName = providedName[1:]\n",
    "            print (providedName, preferredName)\n",
    "            q_updateGroups = \"UPDATE tir.tir SET sgcn = '\"+preferredNamePair+\"' WHERE registration->'taxonomicgroups' LIKE '%\"+providedName+\"%' OR registration->'taxonomicgroups' LIKE '%\"+preferredName+\"%'\"\n",
    "            r =  requests.get(gc2.sqlAPI(\"DataDistillery\",\"BCB\")+\"&q=\"+q_updateGroups).json()"
   ]
  },
  {
   "cell_type": "code",
   "execution_count": 20,
   "metadata": {
    "collapsed": false,
    "deletable": true,
    "editable": true
   },
   "outputs": [],
   "source": [
    "# Add \"other\" as the taxonomic group for anything left over\n",
    "if thisRun[\"resetSGCN\"]:\n",
    "    otherGroupPair = '\"taxonomicgroup\"=>\"other\"'\n",
    "    q_updateOther = \"UPDATE tir.tir SET sgcn = '\"+otherGroupPair+\"' WHERE sgcn IS NULL\"\n",
    "    r = requests.get(gc2.sqlAPI(\"DataDistillery\",\"BCB\")+\"&q=\"+q_updateOther).json()\n",
    "    print (\"Other\", r[\"affected_rows\"])"
   ]
  },
  {
   "cell_type": "code",
   "execution_count": 24,
   "metadata": {
    "collapsed": false,
    "deletable": true,
    "editable": true
   },
   "outputs": [
    {
     "data": {
      "text/plain": [
       "{'id': 25991,\n",
       " 'kv_swap2005': '\"swap2005\"=>\"true\"',\n",
       " 'scientificname_tir': 'Eragrostis glomerata'}"
      ]
     },
     "metadata": {},
     "output_type": "display_data"
    },
    {
     "name": "stdout",
     "output_type": "stream",
     "text": [
      "{'_execution_time': 0.066, 'affected_rows': 1, 'success': True, 'auth_check': {'session': None, 'success': True, 'auth_level': None}}\n"
     ]
    },
    {
     "data": {
      "text/plain": [
       "{'id': 24158,\n",
       " 'kv_swap2005': '\"swap2005\"=>\"true\"',\n",
       " 'scientificname_tir': 'Coelorachis cylindrica'}"
      ]
     },
     "metadata": {},
     "output_type": "display_data"
    },
    {
     "name": "stdout",
     "output_type": "stream",
     "text": [
      "{'_execution_time': 0.066, 'affected_rows': 1, 'success': True, 'auth_check': {'session': None, 'success': True, 'auth_level': None}}\n"
     ]
    },
    {
     "data": {
      "text/plain": [
       "{'id': 32907,\n",
       " 'kv_swap2005': '\"swap2005\"=>\"true\"',\n",
       " 'scientificname_tir': 'Platanthera blephariglottis var.'}"
      ]
     },
     "metadata": {},
     "output_type": "display_data"
    },
    {
     "name": "stdout",
     "output_type": "stream",
     "text": [
      "{'_execution_time': 0.067, 'affected_rows': 1, 'success': True, 'auth_check': {'session': None, 'success': True, 'auth_level': None}}\n"
     ]
    },
    {
     "data": {
      "text/plain": [
       "{'id': 27790,\n",
       " 'kv_swap2005': '\"swap2005\"=>\"true\"',\n",
       " 'scientificname_tir': 'Hibiscadelphus giffardianus'}"
      ]
     },
     "metadata": {},
     "output_type": "display_data"
    },
    {
     "name": "stdout",
     "output_type": "stream",
     "text": [
      "{'_execution_time': 0.069, 'affected_rows': 1, 'success': True, 'auth_check': {'session': None, 'success': True, 'auth_level': None}}\n"
     ]
    },
    {
     "data": {
      "text/plain": [
       "{'id': 34581,\n",
       " 'kv_swap2005': '\"swap2005\"=>\"true\"',\n",
       " 'scientificname_tir': 'Rhynchospora decurrens'}"
      ]
     },
     "metadata": {},
     "output_type": "display_data"
    },
    {
     "name": "stdout",
     "output_type": "stream",
     "text": [
      "{'_execution_time': 0.065, 'affected_rows': 1, 'success': True, 'auth_check': {'session': None, 'success': True, 'auth_level': None}}\n"
     ]
    },
    {
     "data": {
      "text/plain": [
       "{'id': 21271,\n",
       " 'kv_swap2005': '\"swap2005\"=>\"true\"',\n",
       " 'scientificname_tir': 'Antennaria dimorpha'}"
      ]
     },
     "metadata": {},
     "output_type": "display_data"
    },
    {
     "name": "stdout",
     "output_type": "stream",
     "text": [
      "{'_execution_time': 0.067, 'affected_rows': 1, 'success': True, 'auth_check': {'session': None, 'success': True, 'auth_level': None}}\n"
     ]
    }
   ],
   "source": [
    "thisRun[\"totalRecordsToProcess\"] = 500\n",
    "thisRun[\"totalRecordsProcessed\"] = 0\n",
    "\n",
    "numberWithoutTIRData = 1\n",
    "\n",
    "while numberWithoutTIRData == 1 and thisRun[\"totalRecordsProcessed\"] <= thisRun[\"totalRecordsToProcess\"]:\n",
    "\n",
    "    q_recordToSearch = \"SELECT id, \\\n",
    "        registration->'scientificname' AS scientificname \\\n",
    "        FROM tir.tir \\\n",
    "        WHERE NOT exist(sgcn, 'swap2005') \\\n",
    "        LIMIT 1\"\n",
    "    recordToSearch  = requests.get(thisRun[\"baseURL\"]+\"&q=\"+q_recordToSearch).json()\n",
    "\n",
    "    numberWithoutTIRData = len(recordToSearch[\"features\"])\n",
    "    \n",
    "    if numberWithoutTIRData == 1:\n",
    "        tirRecord = recordToSearch[\"features\"][0]\n",
    "    \n",
    "        thisRecord = {}\n",
    "        thisRecord[\"id\"] = tirRecord[\"properties\"][\"id\"]\n",
    "        thisRecord[\"scientificname_tir\"] = tirRecord[\"properties\"][\"scientificname\"]\n",
    "        thisRecord[\"kv_swap2005\"] = '\"swap2005\"=>\"false\"'\n",
    "        \n",
    "        if any(swap2005.scientificname == thisRecord[\"scientificname_tir\"]):\n",
    "            thisRecord[\"kv_swap2005\"] = '\"swap2005\"=>\"true\"'\n",
    "\n",
    "        display (thisRecord)\n",
    "        if thisRun[\"commitToDB\"]:\n",
    "            q_updateSWAP2005 = \"UPDATE tir.tir \\\n",
    "                SET sgcn = sgcn || '\"+thisRecord[\"kv_swap2005\"]+\"' :: hstore \\\n",
    "                WHERE id = \"+str(thisRecord[\"id\"])\n",
    "            print (requests.get(gc2.sqlAPI(\"DataDistillery\",\"BCB\")+\"&q=\"+q_updateSWAP2005).json())\n",
    "            \n",
    "        thisRun[\"totalRecordsProcessed\"] = thisRun[\"totalRecordsProcessed\"] + 1\n"
   ]
  },
  {
   "cell_type": "code",
   "execution_count": null,
   "metadata": {
    "collapsed": true,
    "deletable": true,
    "editable": true
   },
   "outputs": [],
   "source": []
  }
 ],
 "metadata": {
  "kernelspec": {
   "display_name": "Python 3",
   "language": "python",
   "name": "python3"
  },
  "language_info": {
   "codemirror_mode": {
    "name": "ipython",
    "version": 3
   },
   "file_extension": ".py",
   "mimetype": "text/x-python",
   "name": "python",
   "nbconvert_exporter": "python",
   "pygments_lexer": "ipython3",
   "version": "3.5.3"
  }
 },
 "nbformat": 4,
 "nbformat_minor": 0
}
